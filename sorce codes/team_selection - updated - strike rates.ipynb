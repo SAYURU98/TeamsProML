{
  "cells": [
    {
      "cell_type": "markdown",
      "metadata": {
        "id": "n6ic8iG1R7FY"
      },
      "source": [
        "#import data"
      ]
    },
    {
      "cell_type": "code",
      "execution_count": 121,
      "metadata": {
        "id": "GeptoRnkRZbd"
      },
      "outputs": [],
      "source": [
        "import pandas as pd"
      ]
    },
    {
      "cell_type": "code",
      "execution_count": 122,
      "metadata": {
        "id": "ThshKhpPSHf9"
      },
      "outputs": [],
      "source": [
        "df=pd.read_csv('/content/dfs.csv')"
      ]
    },
    {
      "cell_type": "code",
      "execution_count": 123,
      "metadata": {
        "id": "gcVt3PayTfeW"
      },
      "outputs": [],
      "source": [
        "df = df.iloc[:356]"
      ]
    },
    {
      "cell_type": "code",
      "execution_count": 124,
      "metadata": {
        "colab": {
          "base_uri": "https://localhost:8080/"
        },
        "id": "TDQ8Nr_36ggh",
        "outputId": "bdf1f48d-0a3d-4170-c18c-81f669960ecf"
      },
      "outputs": [
        {
          "name": "stdout",
          "output_type": "stream",
          "text": [
            "Total NaN values in DataFrame: 0\n",
            "NaN values in each column:\n",
            "Country             0\n",
            "Decision            0\n",
            "Team 1              0\n",
            "Team 2              0\n",
            "Winner              0\n",
            "Ground              0\n",
            "team composition    0\n",
            "weather_status      0\n",
            "strike_rate         0\n",
            "Margin_Wickets      0\n",
            "Margin_Runs         0\n",
            "dtype: int64\n"
          ]
        }
      ],
      "source": [
        "# Check for NaN values in the entire DataFrame\n",
        "nan_in_df = df.isna().sum().sum()\n",
        "\n",
        "print(f'Total NaN values in DataFrame: {nan_in_df}')\n",
        "\n",
        "# If you want to check for NaN values in each column\n",
        "nan_in_each_column = df.isna().sum()\n",
        "\n",
        "print(f'NaN values in each column:\\n{nan_in_each_column}')\n"
      ]
    },
    {
      "cell_type": "markdown",
      "metadata": {
        "id": "vlmgIPcpbFQ9"
      },
      "source": [
        "#Encoding\n"
      ]
    },
    {
      "cell_type": "code",
      "execution_count": 125,
      "metadata": {
        "id": "QSPKDmAcbqHB"
      },
      "outputs": [],
      "source": [
        "from sklearn.preprocessing import LabelEncoder\n",
        "\n",
        "# Assuming df is your DataFrame\n",
        "\n",
        "# Create a LabelEncoder\n",
        "le = LabelEncoder()\n",
        "\n",
        "# Fit the LabelEncoder on all unique teams\n",
        "teams = pd.concat([df['Team 1'], df['Team 2'], df['Winner'], df['Country']]).unique()\n",
        "le.fit(teams)\n",
        "\n",
        "# Transform the 'Team 1', 'Team 2', and 'Winner' columns\n",
        "df['Team 1'] = le.transform(df['Team 1'])\n",
        "df['Team 2'] = le.transform(df['Team 2'])\n",
        "df['Winner'] = le.transform(df['Winner'])\n",
        "df['Country'] = le.transform(df['Country'])\n",
        "\n",
        "# Encode the other columns as before\n",
        "df['Decision'] = le.fit_transform(df['Decision'])\n",
        "df['Ground'] = le.fit_transform(df['Ground'])\n"
      ]
    },
    {
      "cell_type": "markdown",
      "metadata": {
        "id": "hesyB2CPiVUo"
      },
      "source": [
        "#team composition process"
      ]
    },
    {
      "cell_type": "code",
      "execution_count": 126,
      "metadata": {
        "id": "HU8OJeeuhk1m"
      },
      "outputs": [],
      "source": [
        "df['team composition'] = df['team composition'].str.strip('[]').str.split(', ').apply(lambda x: [int(i) for i in x])"
      ]
    },
    {
      "cell_type": "code",
      "execution_count": 127,
      "metadata": {
        "id": "b_l-tscelxpV"
      },
      "outputs": [],
      "source": [
        "df['strike_rate'] = df['strike_rate'].str.strip('[]').str.split(', ').apply(lambda x: [float(i) if i != '-' else None for i in x])\n"
      ]
    },
    {
      "cell_type": "code",
      "execution_count": 103,
      "metadata": {
        "id": "cgoEg1zkIWV6"
      },
      "outputs": [],
      "source": [
        "df.to_csv('/content/dfs.csv',index=False)"
      ]
    },
    {
      "cell_type": "markdown",
      "metadata": {
        "id": "CClzUg88wqJg"
      },
      "source": [
        "## test split"
      ]
    },
    {
      "cell_type": "code",
      "execution_count": 128,
      "metadata": {
        "id": "iMUbuEkXdS-3"
      },
      "outputs": [],
      "source": [
        "import numpy as np\n",
        "\n",
        "# Convert lists to a 2D array-like\n",
        "# y = np.array(df[['team composition','strike_rate']].to_list())\n",
        "y = df['strike_rate'].tolist()"
      ]
    },
    {
      "cell_type": "code",
      "execution_count": 129,
      "metadata": {
        "id": "qUN9tEOVAn34"
      },
      "outputs": [],
      "source": [
        "from sklearn.model_selection import train_test_split\n",
        "\n",
        "# Split the data into features (X) and target (y)\n",
        "X = df.drop(['team composition','strike_rate'], axis=1)\n",
        "\n",
        "# Split the data into training and test sets\n",
        "X_train, X_test, y_train, y_test = train_test_split(X, y, test_size=0.2, random_state=42)\n"
      ]
    },
    {
      "cell_type": "markdown",
      "metadata": {
        "id": "2HJsJ-18pPow"
      },
      "source": [
        "# Model Testing"
      ]
    },
    {
      "cell_type": "code",
      "execution_count": 24,
      "metadata": {
        "id": "UL0AWhYQdoGY"
      },
      "outputs": [],
      "source": [
        "# from sklearn.multioutput import MultiOutputRegressor\n",
        "# from sklearn.ensemble import RandomForestRegressor\n",
        "\n",
        "\n",
        "# # Convert categorical columns to category codes\n",
        "# for col in ['Team 1', 'Team 2', 'Winner', 'Ground']:\n",
        "#     df[col] = df[col].astype('category').cat.codes\n",
        "\n",
        "\n",
        "\n",
        "# # Train the model\n",
        "# model = MultiOutputRegressor(RandomForestRegressor(random_state=42))\n",
        "# model.fit(X_train, y_train)\n",
        "\n",
        "# # Make predictions\n",
        "# predictions = model.predict(X_test)"
      ]
    },
    {
      "cell_type": "code",
      "execution_count": null,
      "metadata": {
        "id": "e_ylWEgdhxj0"
      },
      "outputs": [],
      "source": [
        "# import numpy as np\n",
        "\n",
        "# # Round predictions to the nearest integer\n",
        "# rounded_predictions = np.round(predictions).astype(int)\n",
        "\n",
        "# print(rounded_predictions)"
      ]
    },
    {
      "cell_type": "code",
      "execution_count": null,
      "metadata": {
        "colab": {
          "base_uri": "https://localhost:8080/"
        },
        "id": "PNjPtQn2fhTZ",
        "outputId": "a7305426-f4f1-46b9-8d46-ea211178c86a"
      },
      "outputs": [
        {
          "name": "stdout",
          "output_type": "stream",
          "text": [
            "Mean Absolute Error: 1.505159136002886\n",
            "Mean Squared Error: 4.186002696649925\n",
            "R^2 Score: -0.3362177079115329\n"
          ]
        }
      ],
      "source": [
        "# from sklearn.metrics import mean_absolute_error, mean_squared_error, r2_score\n",
        "\n",
        "# # Calculate MAE, MSE, and R^2\n",
        "# mae = mean_absolute_error(y_test, predictions)\n",
        "# mse = mean_squared_error(y_test, predictions)\n",
        "# r2 = r2_score(y_test, predictions)\n",
        "\n",
        "# print(f'Mean Absolute Error: {mae}')\n",
        "# print(f'Mean Squared Error: {mse}')\n",
        "# print(f'R^2 Score: {r2}')"
      ]
    },
    {
      "cell_type": "code",
      "execution_count": null,
      "metadata": {
        "colab": {
          "base_uri": "https://localhost:8080/"
        },
        "id": "zSAhOH5HzKMI",
        "outputId": "4c6e7681-d411-4130-d836-2dea7aca85e3"
      },
      "outputs": [
        {
          "data": {
            "text/plain": [
              "['model_RF.joblib']"
            ]
          },
          "execution_count": 100,
          "metadata": {},
          "output_type": "execute_result"
        }
      ],
      "source": [
        "from joblib import dump\n",
        "\n",
        "# Save the model to a file\n",
        "dump(model, 'model_RF.joblib')"
      ]
    },
    {
      "cell_type": "markdown",
      "metadata": {
        "id": "qTOgrUbiyoVF"
      },
      "source": [
        "## Random Forest Regressor with Grid Search\n"
      ]
    },
    {
      "cell_type": "code",
      "execution_count": 130,
      "metadata": {
        "id": "OP95ArOJ9nVq"
      },
      "outputs": [],
      "source": [
        "from sklearn.model_selection import GridSearchCV\n",
        "from sklearn.ensemble import RandomForestRegressor\n",
        "# Define the parameter grid\n",
        "param_grid = {\n",
        "    'n_estimators': [10, 50],  # Number of trees in the forest\n",
        "    'max_depth': [2,4],  # Maximum depth of the tree\n",
        "    'min_samples_split': [2, 5]  # Minimum number of samples required to split a node\n",
        "\n",
        "}\n",
        "\n",
        "# Initialize the RandomForestRegressor\n",
        "rf = RandomForestRegressor(random_state=42)\n",
        "\n",
        "# Initialize the GridSearchCV\n",
        "grid_search = GridSearchCV(estimator=rf, param_grid=param_grid, cv=2, n_jobs=-1)\n",
        "\n",
        "# Fit the GridSearchCV to the data\n",
        "grid_search.fit(X_train, y_train)\n",
        "\n",
        "# Get the best parameters\n",
        "best_params = grid_search.best_params_\n"
      ]
    },
    {
      "cell_type": "code",
      "execution_count": 131,
      "metadata": {
        "colab": {
          "base_uri": "https://localhost:8080/",
          "height": 75
        },
        "id": "iFwuhTXGllXE",
        "outputId": "ce6627cd-a58d-479a-dba0-b6e0f461ea4c"
      },
      "outputs": [
        {
          "data": {
            "text/html": [
              "<style>#sk-container-id-3 {color: black;background-color: white;}#sk-container-id-3 pre{padding: 0;}#sk-container-id-3 div.sk-toggleable {background-color: white;}#sk-container-id-3 label.sk-toggleable__label {cursor: pointer;display: block;width: 100%;margin-bottom: 0;padding: 0.3em;box-sizing: border-box;text-align: center;}#sk-container-id-3 label.sk-toggleable__label-arrow:before {content: \"▸\";float: left;margin-right: 0.25em;color: #696969;}#sk-container-id-3 label.sk-toggleable__label-arrow:hover:before {color: black;}#sk-container-id-3 div.sk-estimator:hover label.sk-toggleable__label-arrow:before {color: black;}#sk-container-id-3 div.sk-toggleable__content {max-height: 0;max-width: 0;overflow: hidden;text-align: left;background-color: #f0f8ff;}#sk-container-id-3 div.sk-toggleable__content pre {margin: 0.2em;color: black;border-radius: 0.25em;background-color: #f0f8ff;}#sk-container-id-3 input.sk-toggleable__control:checked~div.sk-toggleable__content {max-height: 200px;max-width: 100%;overflow: auto;}#sk-container-id-3 input.sk-toggleable__control:checked~label.sk-toggleable__label-arrow:before {content: \"▾\";}#sk-container-id-3 div.sk-estimator input.sk-toggleable__control:checked~label.sk-toggleable__label {background-color: #d4ebff;}#sk-container-id-3 div.sk-label input.sk-toggleable__control:checked~label.sk-toggleable__label {background-color: #d4ebff;}#sk-container-id-3 input.sk-hidden--visually {border: 0;clip: rect(1px 1px 1px 1px);clip: rect(1px, 1px, 1px, 1px);height: 1px;margin: -1px;overflow: hidden;padding: 0;position: absolute;width: 1px;}#sk-container-id-3 div.sk-estimator {font-family: monospace;background-color: #f0f8ff;border: 1px dotted black;border-radius: 0.25em;box-sizing: border-box;margin-bottom: 0.5em;}#sk-container-id-3 div.sk-estimator:hover {background-color: #d4ebff;}#sk-container-id-3 div.sk-parallel-item::after {content: \"\";width: 100%;border-bottom: 1px solid gray;flex-grow: 1;}#sk-container-id-3 div.sk-label:hover label.sk-toggleable__label {background-color: #d4ebff;}#sk-container-id-3 div.sk-serial::before {content: \"\";position: absolute;border-left: 1px solid gray;box-sizing: border-box;top: 0;bottom: 0;left: 50%;z-index: 0;}#sk-container-id-3 div.sk-serial {display: flex;flex-direction: column;align-items: center;background-color: white;padding-right: 0.2em;padding-left: 0.2em;position: relative;}#sk-container-id-3 div.sk-item {position: relative;z-index: 1;}#sk-container-id-3 div.sk-parallel {display: flex;align-items: stretch;justify-content: center;background-color: white;position: relative;}#sk-container-id-3 div.sk-item::before, #sk-container-id-3 div.sk-parallel-item::before {content: \"\";position: absolute;border-left: 1px solid gray;box-sizing: border-box;top: 0;bottom: 0;left: 50%;z-index: -1;}#sk-container-id-3 div.sk-parallel-item {display: flex;flex-direction: column;z-index: 1;position: relative;background-color: white;}#sk-container-id-3 div.sk-parallel-item:first-child::after {align-self: flex-end;width: 50%;}#sk-container-id-3 div.sk-parallel-item:last-child::after {align-self: flex-start;width: 50%;}#sk-container-id-3 div.sk-parallel-item:only-child::after {width: 0;}#sk-container-id-3 div.sk-dashed-wrapped {border: 1px dashed gray;margin: 0 0.4em 0.5em 0.4em;box-sizing: border-box;padding-bottom: 0.4em;background-color: white;}#sk-container-id-3 div.sk-label label {font-family: monospace;font-weight: bold;display: inline-block;line-height: 1.2em;}#sk-container-id-3 div.sk-label-container {text-align: center;}#sk-container-id-3 div.sk-container {/* jupyter's `normalize.less` sets `[hidden] { display: none; }` but bootstrap.min.css set `[hidden] { display: none !important; }` so we also need the `!important` here to be able to override the default hidden behavior on the sphinx rendered scikit-learn.org. See: https://github.com/scikit-learn/scikit-learn/issues/21755 */display: inline-block !important;position: relative;}#sk-container-id-3 div.sk-text-repr-fallback {display: none;}</style><div id=\"sk-container-id-3\" class=\"sk-top-container\"><div class=\"sk-text-repr-fallback\"><pre>RandomForestRegressor(max_depth=2, n_estimators=50, random_state=42)</pre><b>In a Jupyter environment, please rerun this cell to show the HTML representation or trust the notebook. <br />On GitHub, the HTML representation is unable to render, please try loading this page with nbviewer.org.</b></div><div class=\"sk-container\" hidden><div class=\"sk-item\"><div class=\"sk-estimator sk-toggleable\"><input class=\"sk-toggleable__control sk-hidden--visually\" id=\"sk-estimator-id-3\" type=\"checkbox\" checked><label for=\"sk-estimator-id-3\" class=\"sk-toggleable__label sk-toggleable__label-arrow\">RandomForestRegressor</label><div class=\"sk-toggleable__content\"><pre>RandomForestRegressor(max_depth=2, n_estimators=50, random_state=42)</pre></div></div></div></div></div>"
            ],
            "text/plain": [
              "RandomForestRegressor(max_depth=2, n_estimators=50, random_state=42)"
            ]
          },
          "execution_count": 131,
          "metadata": {},
          "output_type": "execute_result"
        }
      ],
      "source": [
        "# Initialize the RandomForestRegressor with the best parameters\n",
        "best_rf = RandomForestRegressor(n_estimators=best_params['n_estimators'],\n",
        "                                max_depth=best_params['max_depth'],\n",
        "                                min_samples_split=best_params['min_samples_split'],\n",
        "                                random_state=42)\n",
        "\n",
        "# Fit the model to the training data\n",
        "best_rf.fit(X_train, y_train)\n"
      ]
    },
    {
      "cell_type": "code",
      "execution_count": 132,
      "metadata": {
        "colab": {
          "base_uri": "https://localhost:8080/"
        },
        "id": "oJ5UV0QDloPW",
        "outputId": "1e0f9d9a-f681-4a04-d696-dfeafea9bf09"
      },
      "outputs": [
        {
          "name": "stdout",
          "output_type": "stream",
          "text": [
            "Mean Absolute Error: 13.517417012597138\n",
            "Mean Squared Error: 419.53721155216175\n",
            "R^2 Score: -0.006431997190859942\n"
          ]
        }
      ],
      "source": [
        "from sklearn.metrics import mean_absolute_error, mean_squared_error, r2_score\n",
        "\n",
        "# Make predictions on the test set\n",
        "predictions = best_rf.predict(X_test)\n",
        "y_test = np.nan_to_num(y_test)\n",
        "predictions = np.nan_to_num(predictions)\n",
        "# Calculate the metrics\n",
        "mae = mean_absolute_error(y_test, predictions)\n",
        "mse = mean_squared_error(y_test, predictions)\n",
        "r2 = r2_score(y_test, predictions)\n",
        "\n",
        "print(f'Mean Absolute Error: {mae}')\n",
        "print(f'Mean Squared Error: {mse}')\n",
        "print(f'R^2 Score: {r2}')\n",
        "\n",
        "# Mean Absolute Error: 1.410682234684678\n",
        "# Mean Squared Error: 3.462551391667395\n",
        "# R^2 Score: -0.06239412438597833\n",
        "\n",
        "# Mean Absolute Error: 1.3959417059199792\n",
        "# Mean Squared Error: 3.367518680120904\n",
        "# R^2 Score: -0.03717025289564917\n",
        "\n",
        "# Mean Absolute Error: 1.4079923701372685\n",
        "# Mean Squared Error: 3.362731761761384\n",
        "# R^2 Score: -0.02507022296826499"
      ]
    },
    {
      "cell_type": "code",
      "execution_count": 134,
      "metadata": {
        "colab": {
          "base_uri": "https://localhost:8080/"
        },
        "id": "k_uyyTffz_aJ",
        "outputId": "888a07ab-26f3-42b8-cfda-3a9797688b9f"
      },
      "outputs": [
        {
          "data": {
            "text/plain": [
              "['model_RF with GridSearch - strike rates.joblib']"
            ]
          },
          "execution_count": 134,
          "metadata": {},
          "output_type": "execute_result"
        }
      ],
      "source": [
        "from joblib import dump\n",
        "\n",
        "# Save the model to a file\n",
        "dump(best_rf, 'model_RF with GridSearch - strike rates.joblib')"
      ]
    },
    {
      "cell_type": "markdown",
      "metadata": {
        "id": "HGqky5PIuStP"
      },
      "source": [
        "##Gradient Boost Regressor"
      ]
    },
    {
      "cell_type": "code",
      "execution_count": null,
      "metadata": {
        "colab": {
          "base_uri": "https://localhost:8080/"
        },
        "id": "_Q_peh_dooxC",
        "outputId": "c5a5559a-c05d-4fd3-c61c-469c8ac12dbd"
      },
      "outputs": [
        {
          "name": "stdout",
          "output_type": "stream",
          "text": [
            "Mean Absolute Error: 1.5078911212045698\n",
            "Mean Squared Error: 4.292472283325814\n",
            "R^2 Score: -0.3515037396559127\n"
          ]
        }
      ],
      "source": [
        "from sklearn.multioutput import MultiOutputRegressor\n",
        "from sklearn.ensemble import GradientBoostingRegressor\n",
        "\n",
        "# Initialize the GradientBoostingRegressor\n",
        "gbr = GradientBoostingRegressor(random_state=42)\n",
        "\n",
        "# Make it a multi-output regressor\n",
        "mor = MultiOutputRegressor(gbr)\n",
        "\n",
        "# Fit the model to the training data\n",
        "mor.fit(X_train, y_train)\n",
        "\n",
        "# Make predictions on the test set\n",
        "predictions = mor.predict(X_test)\n",
        "\n",
        "# Calculate the metrics\n",
        "mae = mean_absolute_error(y_test, predictions)\n",
        "mse = mean_squared_error(y_test, predictions)\n",
        "r2 = r2_score(y_test, predictions)\n",
        "\n",
        "print(f'Mean Absolute Error: {mae}')\n",
        "print(f'Mean Squared Error: {mse}')\n",
        "print(f'R^2 Score: {r2}')"
      ]
    },
    {
      "cell_type": "code",
      "execution_count": null,
      "metadata": {
        "colab": {
          "base_uri": "https://localhost:8080/",
          "height": 118
        },
        "id": "CoKJ0eEBqI_B",
        "outputId": "d18593ba-6a0c-426c-a9e4-1cde2214da7a"
      },
      "outputs": [
        {
          "data": {
            "text/html": [
              "<style>#sk-container-id-5 {color: black;background-color: white;}#sk-container-id-5 pre{padding: 0;}#sk-container-id-5 div.sk-toggleable {background-color: white;}#sk-container-id-5 label.sk-toggleable__label {cursor: pointer;display: block;width: 100%;margin-bottom: 0;padding: 0.3em;box-sizing: border-box;text-align: center;}#sk-container-id-5 label.sk-toggleable__label-arrow:before {content: \"▸\";float: left;margin-right: 0.25em;color: #696969;}#sk-container-id-5 label.sk-toggleable__label-arrow:hover:before {color: black;}#sk-container-id-5 div.sk-estimator:hover label.sk-toggleable__label-arrow:before {color: black;}#sk-container-id-5 div.sk-toggleable__content {max-height: 0;max-width: 0;overflow: hidden;text-align: left;background-color: #f0f8ff;}#sk-container-id-5 div.sk-toggleable__content pre {margin: 0.2em;color: black;border-radius: 0.25em;background-color: #f0f8ff;}#sk-container-id-5 input.sk-toggleable__control:checked~div.sk-toggleable__content {max-height: 200px;max-width: 100%;overflow: auto;}#sk-container-id-5 input.sk-toggleable__control:checked~label.sk-toggleable__label-arrow:before {content: \"▾\";}#sk-container-id-5 div.sk-estimator input.sk-toggleable__control:checked~label.sk-toggleable__label {background-color: #d4ebff;}#sk-container-id-5 div.sk-label input.sk-toggleable__control:checked~label.sk-toggleable__label {background-color: #d4ebff;}#sk-container-id-5 input.sk-hidden--visually {border: 0;clip: rect(1px 1px 1px 1px);clip: rect(1px, 1px, 1px, 1px);height: 1px;margin: -1px;overflow: hidden;padding: 0;position: absolute;width: 1px;}#sk-container-id-5 div.sk-estimator {font-family: monospace;background-color: #f0f8ff;border: 1px dotted black;border-radius: 0.25em;box-sizing: border-box;margin-bottom: 0.5em;}#sk-container-id-5 div.sk-estimator:hover {background-color: #d4ebff;}#sk-container-id-5 div.sk-parallel-item::after {content: \"\";width: 100%;border-bottom: 1px solid gray;flex-grow: 1;}#sk-container-id-5 div.sk-label:hover label.sk-toggleable__label {background-color: #d4ebff;}#sk-container-id-5 div.sk-serial::before {content: \"\";position: absolute;border-left: 1px solid gray;box-sizing: border-box;top: 0;bottom: 0;left: 50%;z-index: 0;}#sk-container-id-5 div.sk-serial {display: flex;flex-direction: column;align-items: center;background-color: white;padding-right: 0.2em;padding-left: 0.2em;position: relative;}#sk-container-id-5 div.sk-item {position: relative;z-index: 1;}#sk-container-id-5 div.sk-parallel {display: flex;align-items: stretch;justify-content: center;background-color: white;position: relative;}#sk-container-id-5 div.sk-item::before, #sk-container-id-5 div.sk-parallel-item::before {content: \"\";position: absolute;border-left: 1px solid gray;box-sizing: border-box;top: 0;bottom: 0;left: 50%;z-index: -1;}#sk-container-id-5 div.sk-parallel-item {display: flex;flex-direction: column;z-index: 1;position: relative;background-color: white;}#sk-container-id-5 div.sk-parallel-item:first-child::after {align-self: flex-end;width: 50%;}#sk-container-id-5 div.sk-parallel-item:last-child::after {align-self: flex-start;width: 50%;}#sk-container-id-5 div.sk-parallel-item:only-child::after {width: 0;}#sk-container-id-5 div.sk-dashed-wrapped {border: 1px dashed gray;margin: 0 0.4em 0.5em 0.4em;box-sizing: border-box;padding-bottom: 0.4em;background-color: white;}#sk-container-id-5 div.sk-label label {font-family: monospace;font-weight: bold;display: inline-block;line-height: 1.2em;}#sk-container-id-5 div.sk-label-container {text-align: center;}#sk-container-id-5 div.sk-container {/* jupyter's `normalize.less` sets `[hidden] { display: none; }` but bootstrap.min.css set `[hidden] { display: none !important; }` so we also need the `!important` here to be able to override the default hidden behavior on the sphinx rendered scikit-learn.org. See: https://github.com/scikit-learn/scikit-learn/issues/21755 */display: inline-block !important;position: relative;}#sk-container-id-5 div.sk-text-repr-fallback {display: none;}</style><div id=\"sk-container-id-5\" class=\"sk-top-container\"><div class=\"sk-text-repr-fallback\"><pre>MultiOutputRegressor(estimator=GradientBoostingRegressor(max_depth=10,\n",
              "                                                         min_samples_split=20,\n",
              "                                                         n_estimators=10,\n",
              "                                                         random_state=42))</pre><b>In a Jupyter environment, please rerun this cell to show the HTML representation or trust the notebook. <br />On GitHub, the HTML representation is unable to render, please try loading this page with nbviewer.org.</b></div><div class=\"sk-container\" hidden><div class=\"sk-item sk-dashed-wrapped\"><div class=\"sk-label-container\"><div class=\"sk-label sk-toggleable\"><input class=\"sk-toggleable__control sk-hidden--visually\" id=\"sk-estimator-id-9\" type=\"checkbox\" ><label for=\"sk-estimator-id-9\" class=\"sk-toggleable__label sk-toggleable__label-arrow\">MultiOutputRegressor</label><div class=\"sk-toggleable__content\"><pre>MultiOutputRegressor(estimator=GradientBoostingRegressor(max_depth=10,\n",
              "                                                         min_samples_split=20,\n",
              "                                                         n_estimators=10,\n",
              "                                                         random_state=42))</pre></div></div></div><div class=\"sk-parallel\"><div class=\"sk-parallel-item\"><div class=\"sk-item\"><div class=\"sk-label-container\"><div class=\"sk-label sk-toggleable\"><input class=\"sk-toggleable__control sk-hidden--visually\" id=\"sk-estimator-id-10\" type=\"checkbox\" ><label for=\"sk-estimator-id-10\" class=\"sk-toggleable__label sk-toggleable__label-arrow\">estimator: GradientBoostingRegressor</label><div class=\"sk-toggleable__content\"><pre>GradientBoostingRegressor(max_depth=10, min_samples_split=20, n_estimators=10,\n",
              "                          random_state=42)</pre></div></div></div><div class=\"sk-serial\"><div class=\"sk-item\"><div class=\"sk-estimator sk-toggleable\"><input class=\"sk-toggleable__control sk-hidden--visually\" id=\"sk-estimator-id-11\" type=\"checkbox\" ><label for=\"sk-estimator-id-11\" class=\"sk-toggleable__label sk-toggleable__label-arrow\">GradientBoostingRegressor</label><div class=\"sk-toggleable__content\"><pre>GradientBoostingRegressor(max_depth=10, min_samples_split=20, n_estimators=10,\n",
              "                          random_state=42)</pre></div></div></div></div></div></div></div></div></div></div>"
            ],
            "text/plain": [
              "MultiOutputRegressor(estimator=GradientBoostingRegressor(max_depth=10,\n",
              "                                                         min_samples_split=20,\n",
              "                                                         n_estimators=10,\n",
              "                                                         random_state=42))"
            ]
          },
          "execution_count": 106,
          "metadata": {},
          "output_type": "execute_result"
        }
      ],
      "source": [
        "from sklearn.model_selection import GridSearchCV\n",
        "from sklearn.multioutput import MultiOutputRegressor\n",
        "from sklearn.ensemble import GradientBoostingRegressor\n",
        "\n",
        "# Define the parameter grid\n",
        "param_grid = {\n",
        "    'estimator__n_estimators': [10, 20, 50,100], # Number of trees in the forest\n",
        "    'estimator__max_depth': [None, 10, 20, 40],  # Maximum depth of the tree\n",
        "    'estimator__min_samples_split': [2, 5, 10,20]  # Minimum number of samples required to split a node\n",
        "}\n",
        "\n",
        "# Initialize the GradientBoostingRegressor\n",
        "gbr = GradientBoostingRegressor(random_state=42)\n",
        "\n",
        "# Make it a multi-output regressor\n",
        "mor = MultiOutputRegressor(gbr)\n",
        "\n",
        "# Initialize the GridSearchCV\n",
        "grid_search = GridSearchCV(estimator=mor, param_grid=param_grid, cv=3, n_jobs=-1)\n",
        "\n",
        "# Fit the GridSearchCV to the data\n",
        "grid_search.fit(X_train, y_train)\n",
        "\n",
        "# Get the best parameters\n",
        "best_params = grid_search.best_params_\n",
        "\n",
        "# Train the model with the best parameters\n",
        "best_mor = MultiOutputRegressor(GradientBoostingRegressor(n_estimators=best_params['estimator__n_estimators'],\n",
        "                                                          max_depth=best_params['estimator__max_depth'],\n",
        "                                                          min_samples_split=best_params['estimator__min_samples_split'],\n",
        "                                                          random_state=42))\n",
        "\n",
        "best_mor.fit(X_train, y_train)\n"
      ]
    },
    {
      "cell_type": "code",
      "execution_count": null,
      "metadata": {
        "colab": {
          "base_uri": "https://localhost:8080/"
        },
        "id": "VYXZyXTlqunH",
        "outputId": "48af63d2-71d9-4f29-e981-c4d73e25dd1f"
      },
      "outputs": [
        {
          "name": "stdout",
          "output_type": "stream",
          "text": [
            "Mean Absolute Error: 1.440126542640117\n",
            "Mean Squared Error: 3.695990152253219\n",
            "R^2 Score: -0.16719128993072838\n"
          ]
        }
      ],
      "source": [
        "from sklearn.metrics import mean_absolute_error, mean_squared_error, r2_score\n",
        "\n",
        "# Make predictions on the test set\n",
        "predictions = best_mor.predict(X_test)\n",
        "\n",
        "# Calculate the metrics\n",
        "mae = mean_absolute_error(y_test, predictions)\n",
        "mse = mean_squared_error(y_test, predictions)\n",
        "r2 = r2_score(y_test, predictions)\n",
        "\n",
        "print(f'Mean Absolute Error: {mae}')\n",
        "print(f'Mean Squared Error: {mse}')\n",
        "print(f'R^2 Score: {r2}')\n",
        "# Mean Absolute Error: 1.4418162825241767\n",
        "# Mean Squared Error: 3.8191932734546765\n",
        "# R^2 Score: -0.1955422362193618"
      ]
    },
    {
      "cell_type": "code",
      "execution_count": null,
      "metadata": {
        "colab": {
          "base_uri": "https://localhost:8080/"
        },
        "id": "xzaGUTmr0d12",
        "outputId": "bb170fa5-7580-4bac-bd5d-bdc6147bd6b1"
      },
      "outputs": [
        {
          "data": {
            "text/plain": [
              "['model_GBR with GridSearch.joblib']"
            ]
          },
          "execution_count": 108,
          "metadata": {},
          "output_type": "execute_result"
        }
      ],
      "source": [
        "from joblib import dump\n",
        "\n",
        "# Save the model to a file\n",
        "dump(best_mor, 'model_GBR with GridSearch.joblib')\n"
      ]
    },
    {
      "cell_type": "markdown",
      "metadata": {
        "id": "OP-FNx9BuJqJ"
      },
      "source": [
        "##Decision Tree"
      ]
    },
    {
      "cell_type": "code",
      "execution_count": null,
      "metadata": {
        "colab": {
          "base_uri": "https://localhost:8080/"
        },
        "id": "WDx9e7fxyToy",
        "outputId": "01a14b49-c661-45fb-f1c0-9db4ae4b0e36"
      },
      "outputs": [
        {
          "name": "stdout",
          "output_type": "stream",
          "text": [
            "Mean Absolute Error: 1.7398989898989898\n",
            "Mean Squared Error: 6.9103535353535355\n",
            "R^2 Score: -1.1167287976510079\n"
          ]
        }
      ],
      "source": [
        "from sklearn.tree import DecisionTreeRegressor\n",
        "from sklearn.model_selection import train_test_split\n",
        "from sklearn.metrics import mean_absolute_error, mean_squared_error, r2_score\n",
        "\n",
        "# Convert categorical columns to category codes\n",
        "for col in ['Team 1', 'Team 2', 'Winner', 'Ground']:\n",
        "    df[col] = df[col].astype('category').cat.codes\n",
        "\n",
        "\n",
        "# Initialize the DecisionTreeRegressor\n",
        "dtr = DecisionTreeRegressor(random_state=42)\n",
        "\n",
        "# Fit the model to the training data\n",
        "dtr.fit(X_train, y_train)\n",
        "\n",
        "# Make predictions on the test set\n",
        "predictions = dtr.predict(X_test)\n",
        "\n",
        "# Calculate the metrics\n",
        "mae = mean_absolute_error(y_test, predictions)\n",
        "mse = mean_squared_error(y_test, predictions)\n",
        "r2 = r2_score(y_test, predictions)\n",
        "\n",
        "print(f'Mean Absolute Error: {mae}')\n",
        "print(f'Mean Squared Error: {mse}')\n",
        "print(f'R^2 Score: {r2}')\n"
      ]
    },
    {
      "cell_type": "code",
      "execution_count": null,
      "metadata": {
        "colab": {
          "base_uri": "https://localhost:8080/"
        },
        "id": "tGIKFTSgw_hZ",
        "outputId": "0ebf92df-5d97-45f2-e0d3-ffcecdc3e6cc"
      },
      "outputs": [
        {
          "name": "stdout",
          "output_type": "stream",
          "text": [
            "Cross-validated scores: [-2.4366832  -1.2756409  -1.2744483  -1.01001692 -1.87142375]\n",
            "Average score: -1.5736426135629993\n"
          ]
        }
      ],
      "source": [
        "from sklearn.model_selection import cross_val_score\n",
        "\n",
        "# Convert categorical columns to category codes\n",
        "for col in ['Team 1', 'Team 2', 'Winner', 'Ground']:\n",
        "    df[col] = df[col].astype('category').cat.codes\n",
        "\n",
        "# Split the data into features (X) and target (y)\n",
        "X = df.drop('team composition', axis=1)\n",
        "\n",
        "# Initialize the DecisionTreeRegressor\n",
        "dtr = DecisionTreeRegressor(random_state=42)\n",
        "\n",
        "# Perform 5-fold cross validation\n",
        "scores = cross_val_score(dtr, X, y, cv=5)\n",
        "\n",
        "print(\"Cross-validated scores:\", scores)\n",
        "print(\"Average score:\", scores.mean())\n"
      ]
    },
    {
      "cell_type": "code",
      "execution_count": null,
      "metadata": {
        "colab": {
          "base_uri": "https://localhost:8080/"
        },
        "id": "nbvKZCXi09bh",
        "outputId": "7f16981c-c49d-4bd1-fbb6-55f0ee9cba3f"
      },
      "outputs": [
        {
          "data": {
            "text/plain": [
              "['model_DT.joblib']"
            ]
          },
          "execution_count": 111,
          "metadata": {},
          "output_type": "execute_result"
        }
      ],
      "source": [
        "from joblib import dump\n",
        "\n",
        "# Save the model to a file\n",
        "dump(dtr, 'model_DT.joblib')\n"
      ]
    }
  ],
  "metadata": {
    "colab": {
      "provenance": []
    },
    "kernelspec": {
      "display_name": "Python 3",
      "name": "python3"
    },
    "language_info": {
      "name": "python"
    }
  },
  "nbformat": 4,
  "nbformat_minor": 0
}
