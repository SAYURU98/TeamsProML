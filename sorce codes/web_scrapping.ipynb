{
  "cells": [
    {
      "cell_type": "code",
      "execution_count": null,
      "metadata": {
        "id": "7hp6Ygw4spoT"
      },
      "outputs": [],
      "source": [
        "import requests\n",
        "from bs4 import BeautifulSoup\n",
        "from requests.exceptions import ChunkedEncodingError\n",
        "import csv"
      ]
    },
    {
      "cell_type": "code",
      "execution_count": null,
      "metadata": {
        "id": "TqdSROk8su9I"
      },
      "outputs": [],
      "source": [
        "def get_player_roles(final_url):\n",
        "    r = requests.get(final_url)\n",
        "    soup = BeautifulSoup(r.text, 'html.parser')\n",
        "    spans = soup.find('p', string='Playing Role').find_next_sibling().get_text()\n",
        "    # print(spans)"
      ]
    },
    {
      "cell_type": "code",
      "execution_count": null,
      "metadata": {
        "id": "9eboCP1asyyT"
      },
      "outputs": [],
      "source": [
        "team = []  # Initialize an empty list to store the team"
      ]
    },
    {
      "cell_type": "code",
      "execution_count": null,
      "metadata": {
        "id": "Gh9RQuG457bB"
      },
      "outputs": [],
      "source": [
        "r = requests.get(\"https://www.espncricinfo.com/series/icc-cricket-world-cup-2023-24-1367856/india-vs-sri-lanka-33rd-match-1384424/full-scorecard\")\n",
        "soup = BeautifulSoup(r.text, 'html.parser')\n",
        "\n",
        "# for link in soup.find_all('a'):\n",
        "#     print(link.get('href'))\n",
        "\n",
        "did_not_bat_section = soup.find('div',class_='ds-text-tight-s ds-font-regular ds-leading-4 ds-text-typo-mid1')\n",
        "# print(did_not_bat_section)\n",
        "for val in did_not_bat_section:\n",
        "  for a in val.find_all('a'):\n",
        "    get_player_roles(\"https://www.espncricinfo.com\" + a.get('href'))\n",
        "\n"
      ]
    },
    {
      "cell_type": "code",
      "execution_count": null,
      "metadata": {
        "id": "mv44FsR1szl6"
      },
      "outputs": [],
      "source": [
        "def process_player_url(url):\n",
        "    r = requests.get(url)\n",
        "    soup = BeautifulSoup(r.text, 'html.parser')\n",
        "    rows = soup.find(\"tbody\").find_all(\"tr\")\n",
        "    for row in rows:\n",
        "        if 'ds-hidden' in row['class']:\n",
        "            continue\n",
        "        try:\n",
        "            cell_out = row.find(\"td\", class_=\"ds-w-0 ds-whitespace-nowrap ds-min-w-max ds-flex ds-items-center\")\n",
        "            cell_not_out = row.find(\"td\", class_=\"ds-w-0 ds-whitespace-nowrap ds-min-w-max ds-flex ds-items-center ds-border-line-primary ci-scorecard-player-notout\")\n",
        "            if cell_not_out or cell_out:\n",
        "                div = cell_not_out if cell_not_out else cell_out\n",
        "                link = div.find(\"div\", class_=\"ds-popper-wrapper ds-inline\").find(\"a\", class_=\"ds-inline-flex ds-items-start ds-leading-none\")\n",
        "                href = link[\"href\"]\n",
        "                final_url = \"https://www.espncricinfo.com\" + href\n",
        "                role = get_player_roles(final_url)\n",
        "                team.append(role)  # Add the player's role to the team\n",
        "\n",
        "        except (AttributeError ,ChunkedEncodingError) as e:\n",
        "          continue\n",
        "\n",
        "    if len(team) < 11:\n",
        "        did_not_bat_section = soup.find('div',class_='ds-text-tight-s ds-font-regular ds-leading-4 ds-text-typo-mid1')\n",
        "        for val in did_not_bat_section:\n",
        "          try:\n",
        "            for a in val.find_all('a'):\n",
        "              rest_of_roles=get_player_roles(\"https://www.espncricinfo.com\" + a.get('href'))\n",
        "              team.append(rest_of_roles)\n",
        "          except TypeError as e :\n",
        "            print('error : len(team) < 11')\n",
        "            continue\n",
        "    return team  # Return the team\n"
      ]
    },
    {
      "cell_type": "code",
      "execution_count": null,
      "metadata": {
        "id": "0iUAEFwPtDQb"
      },
      "outputs": [],
      "source": [
        "def get_player_roles(final_url):\n",
        "    r = requests.get(final_url)\n",
        "    soup = BeautifulSoup(r.text, 'html.parser')\n",
        "    spans = soup.find('p', string='Playing Role').find_next_sibling().get_text()\n",
        "\n",
        "    # Define a dictionary to map player roles to numbers\n",
        "    role_dict = {\n",
        "        'Top order Batter': 1,\n",
        "        'Wicketkeeper Batter': 2,\n",
        "        'Opening Batter': 3,\n",
        "        'Middle order Batter': 4,\n",
        "        'Batter': 5,\n",
        "        'Wicketkeeper': 6,\n",
        "        'Allrounder': 7,\n",
        "        'Batting Allrounder': 8,\n",
        "        'Bowling Allrounder': 9,\n",
        "        'Bowler': 10\n",
        "    }\n",
        "\n",
        "    # Return the corresponding number for the player's role\n",
        "    return role_dict.get(spans, 0)  # return 0 if the role is not found in the dictionary\n",
        "\n",
        "def wait_for_enter():\n",
        "    input(\"Press Enter to continue...\")\n"
      ]
    },
    {
      "cell_type": "code",
      "execution_count": null,
      "metadata": {
        "colab": {
          "base_uri": "https://localhost:8080/",
          "height": 211
        },
        "id": "MX1OqAFStLZO",
        "outputId": "8adde191-a65f-4e6c-b2a7-5ec9cf2bfba5"
      },
      "outputs": [
        {
          "ename": "FileNotFoundError",
          "evalue": "[Errno 2] No such file or directory: '/content/SL team selection - Sheet3 rest.csv'",
          "output_type": "error",
          "traceback": [
            "\u001b[0;31m---------------------------------------------------------------------------\u001b[0m",
            "\u001b[0;31mFileNotFoundError\u001b[0m                         Traceback (most recent call last)",
            "\u001b[0;32m<ipython-input-16-93489f03209d>\u001b[0m in \u001b[0;36m<cell line: 1>\u001b[0;34m()\u001b[0m\n\u001b[1;32m      1\u001b[0m \u001b[0;32mwith\u001b[0m \u001b[0mopen\u001b[0m\u001b[0;34m(\u001b[0m\u001b[0;34m'output_rest.txt'\u001b[0m\u001b[0;34m,\u001b[0m \u001b[0;34m'w'\u001b[0m\u001b[0;34m)\u001b[0m \u001b[0;32mas\u001b[0m \u001b[0mfile\u001b[0m\u001b[0;34m:\u001b[0m\u001b[0;34m\u001b[0m\u001b[0;34m\u001b[0m\u001b[0m\n\u001b[0;32m----> 2\u001b[0;31m     \u001b[0;32mwith\u001b[0m \u001b[0mopen\u001b[0m\u001b[0;34m(\u001b[0m\u001b[0;34m'/content/SL team selection - Sheet3 rest.csv'\u001b[0m\u001b[0;34m,\u001b[0m \u001b[0;34m'r'\u001b[0m\u001b[0;34m)\u001b[0m \u001b[0;32mas\u001b[0m \u001b[0mcsv_file\u001b[0m\u001b[0;34m:\u001b[0m\u001b[0;34m\u001b[0m\u001b[0;34m\u001b[0m\u001b[0m\n\u001b[0m\u001b[1;32m      3\u001b[0m         \u001b[0mreader\u001b[0m \u001b[0;34m=\u001b[0m \u001b[0mcsv\u001b[0m\u001b[0;34m.\u001b[0m\u001b[0mreader\u001b[0m\u001b[0;34m(\u001b[0m\u001b[0mcsv_file\u001b[0m\u001b[0;34m)\u001b[0m\u001b[0;34m\u001b[0m\u001b[0;34m\u001b[0m\u001b[0m\n\u001b[1;32m      4\u001b[0m         \u001b[0;32mtry\u001b[0m\u001b[0;34m:\u001b[0m\u001b[0;34m\u001b[0m\u001b[0;34m\u001b[0m\u001b[0m\n\u001b[1;32m      5\u001b[0m             \u001b[0;32mfor\u001b[0m \u001b[0mrow\u001b[0m \u001b[0;32min\u001b[0m \u001b[0mreader\u001b[0m\u001b[0;34m:\u001b[0m\u001b[0;34m\u001b[0m\u001b[0;34m\u001b[0m\u001b[0m\n",
            "\u001b[0;31mFileNotFoundError\u001b[0m: [Errno 2] No such file or directory: '/content/SL team selection - Sheet3 rest.csv'"
          ]
        }
      ],
      "source": [
        "with open('output_rest.txt', 'w') as file:\n",
        "    with open('/content/SL team selection - Sheet3 rest.csv', 'r') as csv_file:\n",
        "        reader = csv.reader(csv_file)\n",
        "        try:\n",
        "            for row in reader:\n",
        "                for field in row:\n",
        "                    if 'http' in field:\n",
        "                        process_player_url(field)\n",
        "                        if len(team) < 11:\n",
        "                            file.write(f\"{team}\\t {field}\\n\")\n",
        "                            print(team,\"\\t\", \"not enough players\", \"\\t\", field)\n",
        "                            team.clear()\n",
        "                        elif len(team) > 11:\n",
        "                            file.write(\"Error\\n\")\n",
        "                            team.clear()\n",
        "                        else:\n",
        "                            file.write(f\"{team}\\n\")\n",
        "                            print(team,\"\\t\", field)\n",
        "                            team.clear()\n",
        "        except ChunkedEncodingError as e:\n",
        "            file.write(str(e) + \"\\n\")\n",
        "            pass\n"
      ]
    },
    {
      "cell_type": "markdown",
      "metadata": {
        "id": "Ra9QTWt4U0B5"
      },
      "source": [
        "Sunny\n",
        "\n",
        "Partly Cloudy\n",
        "\n",
        "Cloudy\n",
        "\n",
        "Light Drizzle\n",
        "\n",
        "Rain\n"
      ]
    },
    {
      "cell_type": "code",
      "execution_count": null,
      "metadata": {
        "id": "U-2K2fB2Hg5N"
      },
      "outputs": [],
      "source": [
        "import json"
      ]
    },
    {
      "cell_type": "code",
      "execution_count": null,
      "metadata": {
        "id": "43jf68WvIpol"
      },
      "outputs": [],
      "source": [
        "role_dict1 = {\n",
        "    'Top order Batter': 1,\n",
        "    'Wicketkeeper Batter': 2,\n",
        "    'Opening Batter': 3,\n",
        "    'Middle order Batter': 4,\n",
        "    'Batter': 5,\n",
        "    'Wicketkeeper': 6,\n",
        "    'Allrounder': 7,\n",
        "    'Batting Allrounder': 8,\n",
        "    'Bowling Allrounder': 9,\n",
        "    'Bowler': 10\n",
        "}"
      ]
    },
    {
      "cell_type": "code",
      "execution_count": null,
      "metadata": {
        "colab": {
          "base_uri": "https://localhost:8080/",
          "height": 1000
        },
        "id": "AG_LjpqYU0v5",
        "outputId": "e1c6d462-00ec-44fd-8c41-5c10ad6d4a5b"
      },
      "outputs": [
        {
          "name": "stdout",
          "output_type": "stream",
          "text": [
            "https://www.espncricinfo.com/cricketers/sahan-arachchige-693975\n",
            "Batting Allrounder\n",
            "true-bowling\n",
            "true-batting\n",
            "--------------------------------------------------------------------------------------\n",
            "https://www.espncricinfo.com/cricketers/charith-asalanka-784367\n",
            "Batting Allrounder\n",
            "true-bowling\n",
            "true-batting\n",
            "--------------------------------------------------------------------------------------\n",
            "https://www.espncricinfo.com/cricketers/ashen-bandara-958691\n",
            "Middle order Batter\n",
            "true-bowling\n",
            "true-batting\n",
            "--------------------------------------------------------------------------------------\n",
            "https://www.espncricinfo.com/cricketers/dushmantha-chameera-552152\n",
            "Bowler\n",
            "true-bowling\n",
            "true-batting\n",
            "--------------------------------------------------------------------------------------\n",
            "https://www.espncricinfo.com/cricketers/dinesh-chandimal-300628\n",
            "Wicketkeeper Batter\n",
            "true-bowling\n",
            "true-batting\n",
            "--------------------------------------------------------------------------------------\n",
            "https://www.espncricinfo.com/cricketers/lasith-croospulle-1027867\n",
            "Opening Batter\n",
            "true-bowling\n",
            "true-batting\n",
            "--------------------------------------------------------------------------------------\n",
            "https://www.espncricinfo.com/cricketers/akila-dananjaya-574178\n",
            "Allrounder\n",
            "true-bowling\n",
            "true-batting\n",
            "--------------------------------------------------------------------------------------\n",
            "https://www.espncricinfo.com/cricketers/shevon-daniel-1194744\n",
            "Top order Batter\n",
            "true-bowling\n",
            "true-batting\n",
            "--------------------------------------------------------------------------------------\n",
            "https://www.espncricinfo.com/cricketers/dhananjaya-de-silva-465793\n",
            "Allrounder\n",
            "true-bowling\n",
            "true-batting\n",
            "--------------------------------------------------------------------------------------\n",
            "https://www.espncricinfo.com/cricketers/asitha-fernando-786925\n",
            "Bowler\n",
            "true-bowling\n",
            "true-batting\n",
            "--------------------------------------------------------------------------------------\n",
            "https://www.espncricinfo.com/cricketers/binura-fernando-629080\n",
            "Bowler\n",
            "true-bowling\n",
            "true-batting\n",
            "--------------------------------------------------------------------------------------\n",
            "https://www.espncricinfo.com/cricketers/nuwanidu-fernando-1074333\n",
            "Batter\n",
            "true-bowling\n",
            "true-batting\n",
            "--------------------------------------------------------------------------------------\n",
            "https://www.espncricinfo.com/cricketers/ravindu-fernando-1217156\n",
            "Batting Allrounder\n",
            "true-bowling\n",
            "true-batting\n",
            "--------------------------------------------------------------------------------------\n",
            "https://www.espncricinfo.com/cricketers/avishka-fernando-784369\n",
            "Opening Batter\n",
            "true-bowling\n",
            "true-batting\n",
            "--------------------------------------------------------------------------------------\n",
            "https://www.espncricinfo.com/cricketers/danushka-gunathilaka-345821\n",
            "Allrounder\n",
            "true-bowling\n",
            "true-batting\n",
            "--------------------------------------------------------------------------------------\n",
            "https://www.espncricinfo.com/cricketers/wanindu-hasaranga-784379\n",
            "Allrounder\n",
            "true-bowling\n",
            "true-batting\n",
            "--------------------------------------------------------------------------------------\n",
            "https://www.espncricinfo.com/cricketers/lahiru-udara-704693\n",
            "Wicketkeeper Batter\n",
            "false-bowling\n",
            "true-batting\n",
            "--------------------------------------------------------------------------------------\n",
            "https://www.espncricinfo.com/cricketers/praveen-jayawickrama-1028665\n",
            "Bowler\n",
            "true-bowling\n",
            "true-batting\n",
            "--------------------------------------------------------------------------------------\n",
            "https://www.espncricinfo.com/cricketers/chamika-karunaratne-623695\n",
            "Bowling Allrounder\n",
            "true-bowling\n",
            "true-batting\n",
            "--------------------------------------------------------------------------------------\n",
            "https://www.espncricinfo.com/cricketers/lahiru-kumara-784375\n",
            "Bowler\n",
            "true-bowling\n",
            "true-batting\n",
            "--------------------------------------------------------------------------------------\n",
            "https://www.espncricinfo.com/cricketers/janith-liyanage-681681\n",
            "Batting Allrounder\n",
            "true-bowling\n",
            "true-batting\n",
            "--------------------------------------------------------------------------------------\n",
            "https://www.espncricinfo.com/cricketers/dilshan-madushanka-793007\n",
            "Bowler\n",
            "true-bowling\n",
            "true-batting\n",
            "--------------------------------------------------------------------------------------\n",
            "https://www.espncricinfo.com/cricketers/angelo-mathews-49764\n",
            "Allrounder\n",
            "true-bowling\n",
            "true-batting\n",
            "--------------------------------------------------------------------------------------\n",
            "https://www.espncricinfo.com/cricketers/kusal-mendis-629074\n",
            "Wicketkeeper Batter\n",
            "true-bowling\n",
            "true-batting\n",
            "--------------------------------------------------------------------------------------\n",
            "https://www.espncricinfo.com/cricketers/kamindu-mendis-784373\n",
            "Allrounder\n",
            "true-bowling\n",
            "true-batting\n",
            "--------------------------------------------------------------------------------------\n",
            "https://www.espncricinfo.com/cricketers/kamil-mishara-1075863\n",
            "Opening Batter\n",
            "true-bowling\n",
            "true-batting\n",
            "--------------------------------------------------------------------------------------\n",
            "https://www.espncricinfo.com/cricketers/pathum-nissanka-1028655\n",
            "Top order Batter\n",
            "false-bowling\n",
            "true-batting\n",
            "--------------------------------------------------------------------------------------\n",
            "https://www.espncricinfo.com/cricketers/matheesha-pathirana-1194795\n",
            "Bowler\n",
            "true-bowling\n",
            "true-batting\n",
            "--------------------------------------------------------------------------------------\n",
            "https://www.espncricinfo.com/cricketers/kusal-perera-300631\n",
            "Wicketkeeper Batter\n",
            "false-bowling\n",
            "true-batting\n",
            "--------------------------------------------------------------------------------------\n",
            "https://www.espncricinfo.com/cricketers/pramod-madushan-826689\n",
            "Bowler\n",
            "true-bowling\n",
            "true-batting\n",
            "--------------------------------------------------------------------------------------\n",
            "https://www.espncricinfo.com/cricketers/bhanuka-rajapaksa-342619\n",
            "Top order Batter\n",
            "true-bowling\n",
            "true-batting\n",
            "--------------------------------------------------------------------------------------\n",
            "https://www.espncricinfo.com/cricketers/kasun-rajitha-499594\n",
            "Bowler\n",
            "true-bowling\n",
            "true-batting\n",
            "--------------------------------------------------------------------------------------\n",
            "https://www.espncricinfo.com/cricketers/lahiru-samarakoon-924551\n",
            "Allrounder\n",
            "true-bowling\n",
            "true-batting\n",
            "--------------------------------------------------------------------------------------\n",
            "https://www.espncricinfo.com/cricketers/sadeera-samarawickrama-629076\n",
            "Wicketkeeper Batter\n",
            "false-bowling\n",
            "true-batting\n",
            "--------------------------------------------------------------------------------------\n",
            "https://www.espncricinfo.com/cricketers/dasun-shanaka-437316\n",
            "Allrounder\n",
            "true-bowling\n",
            "true-batting\n",
            "--------------------------------------------------------------------------------------\n",
            "https://www.espncricinfo.com/cricketers/maheesh-theekshana-1138316\n",
            "Bowler\n",
            "true-bowling\n",
            "true-batting\n",
            "--------------------------------------------------------------------------------------\n",
            "https://www.espncricinfo.com/cricketers/nuwan-thushara-955235\n"
          ]
        },
        {
          "ename": "KeyboardInterrupt",
          "evalue": "",
          "output_type": "error",
          "traceback": [
            "\u001b[0;31m---------------------------------------------------------------------------\u001b[0m",
            "\u001b[0;31mKeyboardInterrupt\u001b[0m                         Traceback (most recent call last)",
            "\u001b[0;32m<ipython-input-12-b42b5851df13>\u001b[0m in \u001b[0;36m<cell line: 5>\u001b[0;34m()\u001b[0m\n\u001b[1;32m      9\u001b[0m     \u001b[0mfinal_url\u001b[0m \u001b[0;34m=\u001b[0m \u001b[0;34m\"https://www.espncricinfo.com\"\u001b[0m \u001b[0;34m+\u001b[0m \u001b[0ma_tag\u001b[0m\u001b[0;34m.\u001b[0m\u001b[0mget\u001b[0m\u001b[0;34m(\u001b[0m\u001b[0;34m'href'\u001b[0m\u001b[0;34m)\u001b[0m\u001b[0;34m\u001b[0m\u001b[0;34m\u001b[0m\u001b[0m\n\u001b[1;32m     10\u001b[0m     \u001b[0mprint\u001b[0m\u001b[0;34m(\u001b[0m\u001b[0mfinal_url\u001b[0m\u001b[0;34m)\u001b[0m\u001b[0;34m\u001b[0m\u001b[0;34m\u001b[0m\u001b[0m\n\u001b[0;32m---> 11\u001b[0;31m     \u001b[0mr1\u001b[0m\u001b[0;34m=\u001b[0m\u001b[0mrequests\u001b[0m\u001b[0;34m.\u001b[0m\u001b[0mget\u001b[0m\u001b[0;34m(\u001b[0m\u001b[0mfinal_url\u001b[0m\u001b[0;34m)\u001b[0m\u001b[0;34m\u001b[0m\u001b[0;34m\u001b[0m\u001b[0m\n\u001b[0m\u001b[1;32m     12\u001b[0m     \u001b[0msoup1\u001b[0m \u001b[0;34m=\u001b[0m \u001b[0mBeautifulSoup\u001b[0m\u001b[0;34m(\u001b[0m\u001b[0mr1\u001b[0m\u001b[0;34m.\u001b[0m\u001b[0mtext\u001b[0m\u001b[0;34m,\u001b[0m \u001b[0;34m'html.parser'\u001b[0m\u001b[0;34m)\u001b[0m\u001b[0;34m\u001b[0m\u001b[0;34m\u001b[0m\u001b[0m\n\u001b[1;32m     13\u001b[0m     \u001b[0mspans2\u001b[0m \u001b[0;34m=\u001b[0m \u001b[0msoup1\u001b[0m\u001b[0;34m.\u001b[0m\u001b[0mfind\u001b[0m\u001b[0;34m(\u001b[0m\u001b[0;34m'p'\u001b[0m\u001b[0;34m,\u001b[0m \u001b[0mstring\u001b[0m\u001b[0;34m=\u001b[0m\u001b[0;34m'Playing Role'\u001b[0m\u001b[0;34m)\u001b[0m\u001b[0;34m.\u001b[0m\u001b[0mfind_next_sibling\u001b[0m\u001b[0;34m(\u001b[0m\u001b[0;34m)\u001b[0m\u001b[0;34m.\u001b[0m\u001b[0mget_text\u001b[0m\u001b[0;34m(\u001b[0m\u001b[0;34m)\u001b[0m\u001b[0;34m\u001b[0m\u001b[0;34m\u001b[0m\u001b[0m\n",
            "\u001b[0;32m/usr/local/lib/python3.10/dist-packages/requests/api.py\u001b[0m in \u001b[0;36mget\u001b[0;34m(url, params, **kwargs)\u001b[0m\n\u001b[1;32m     71\u001b[0m     \"\"\"\n\u001b[1;32m     72\u001b[0m \u001b[0;34m\u001b[0m\u001b[0m\n\u001b[0;32m---> 73\u001b[0;31m     \u001b[0;32mreturn\u001b[0m \u001b[0mrequest\u001b[0m\u001b[0;34m(\u001b[0m\u001b[0;34m\"get\"\u001b[0m\u001b[0;34m,\u001b[0m \u001b[0murl\u001b[0m\u001b[0;34m,\u001b[0m \u001b[0mparams\u001b[0m\u001b[0;34m=\u001b[0m\u001b[0mparams\u001b[0m\u001b[0;34m,\u001b[0m \u001b[0;34m**\u001b[0m\u001b[0mkwargs\u001b[0m\u001b[0;34m)\u001b[0m\u001b[0;34m\u001b[0m\u001b[0;34m\u001b[0m\u001b[0m\n\u001b[0m\u001b[1;32m     74\u001b[0m \u001b[0;34m\u001b[0m\u001b[0m\n\u001b[1;32m     75\u001b[0m \u001b[0;34m\u001b[0m\u001b[0m\n",
            "\u001b[0;32m/usr/local/lib/python3.10/dist-packages/requests/api.py\u001b[0m in \u001b[0;36mrequest\u001b[0;34m(method, url, **kwargs)\u001b[0m\n\u001b[1;32m     57\u001b[0m     \u001b[0;31m# cases, and look like a memory leak in others.\u001b[0m\u001b[0;34m\u001b[0m\u001b[0;34m\u001b[0m\u001b[0m\n\u001b[1;32m     58\u001b[0m     \u001b[0;32mwith\u001b[0m \u001b[0msessions\u001b[0m\u001b[0;34m.\u001b[0m\u001b[0mSession\u001b[0m\u001b[0;34m(\u001b[0m\u001b[0;34m)\u001b[0m \u001b[0;32mas\u001b[0m \u001b[0msession\u001b[0m\u001b[0;34m:\u001b[0m\u001b[0;34m\u001b[0m\u001b[0;34m\u001b[0m\u001b[0m\n\u001b[0;32m---> 59\u001b[0;31m         \u001b[0;32mreturn\u001b[0m \u001b[0msession\u001b[0m\u001b[0;34m.\u001b[0m\u001b[0mrequest\u001b[0m\u001b[0;34m(\u001b[0m\u001b[0mmethod\u001b[0m\u001b[0;34m=\u001b[0m\u001b[0mmethod\u001b[0m\u001b[0;34m,\u001b[0m \u001b[0murl\u001b[0m\u001b[0;34m=\u001b[0m\u001b[0murl\u001b[0m\u001b[0;34m,\u001b[0m \u001b[0;34m**\u001b[0m\u001b[0mkwargs\u001b[0m\u001b[0;34m)\u001b[0m\u001b[0;34m\u001b[0m\u001b[0;34m\u001b[0m\u001b[0m\n\u001b[0m\u001b[1;32m     60\u001b[0m \u001b[0;34m\u001b[0m\u001b[0m\n\u001b[1;32m     61\u001b[0m \u001b[0;34m\u001b[0m\u001b[0m\n",
            "\u001b[0;32m/usr/local/lib/python3.10/dist-packages/requests/sessions.py\u001b[0m in \u001b[0;36mrequest\u001b[0;34m(self, method, url, params, data, headers, cookies, files, auth, timeout, allow_redirects, proxies, hooks, stream, verify, cert, json)\u001b[0m\n\u001b[1;32m    587\u001b[0m         }\n\u001b[1;32m    588\u001b[0m         \u001b[0msend_kwargs\u001b[0m\u001b[0;34m.\u001b[0m\u001b[0mupdate\u001b[0m\u001b[0;34m(\u001b[0m\u001b[0msettings\u001b[0m\u001b[0;34m)\u001b[0m\u001b[0;34m\u001b[0m\u001b[0;34m\u001b[0m\u001b[0m\n\u001b[0;32m--> 589\u001b[0;31m         \u001b[0mresp\u001b[0m \u001b[0;34m=\u001b[0m \u001b[0mself\u001b[0m\u001b[0;34m.\u001b[0m\u001b[0msend\u001b[0m\u001b[0;34m(\u001b[0m\u001b[0mprep\u001b[0m\u001b[0;34m,\u001b[0m \u001b[0;34m**\u001b[0m\u001b[0msend_kwargs\u001b[0m\u001b[0;34m)\u001b[0m\u001b[0;34m\u001b[0m\u001b[0;34m\u001b[0m\u001b[0m\n\u001b[0m\u001b[1;32m    590\u001b[0m \u001b[0;34m\u001b[0m\u001b[0m\n\u001b[1;32m    591\u001b[0m         \u001b[0;32mreturn\u001b[0m \u001b[0mresp\u001b[0m\u001b[0;34m\u001b[0m\u001b[0;34m\u001b[0m\u001b[0m\n",
            "\u001b[0;32m/usr/local/lib/python3.10/dist-packages/requests/sessions.py\u001b[0m in \u001b[0;36msend\u001b[0;34m(self, request, **kwargs)\u001b[0m\n\u001b[1;32m    701\u001b[0m \u001b[0;34m\u001b[0m\u001b[0m\n\u001b[1;32m    702\u001b[0m         \u001b[0;31m# Send the request\u001b[0m\u001b[0;34m\u001b[0m\u001b[0;34m\u001b[0m\u001b[0m\n\u001b[0;32m--> 703\u001b[0;31m         \u001b[0mr\u001b[0m \u001b[0;34m=\u001b[0m \u001b[0madapter\u001b[0m\u001b[0;34m.\u001b[0m\u001b[0msend\u001b[0m\u001b[0;34m(\u001b[0m\u001b[0mrequest\u001b[0m\u001b[0;34m,\u001b[0m \u001b[0;34m**\u001b[0m\u001b[0mkwargs\u001b[0m\u001b[0;34m)\u001b[0m\u001b[0;34m\u001b[0m\u001b[0;34m\u001b[0m\u001b[0m\n\u001b[0m\u001b[1;32m    704\u001b[0m \u001b[0;34m\u001b[0m\u001b[0m\n\u001b[1;32m    705\u001b[0m         \u001b[0;31m# Total elapsed time of the request (approximately)\u001b[0m\u001b[0;34m\u001b[0m\u001b[0;34m\u001b[0m\u001b[0m\n",
            "\u001b[0;32m/usr/local/lib/python3.10/dist-packages/requests/adapters.py\u001b[0m in \u001b[0;36msend\u001b[0;34m(self, request, stream, timeout, verify, cert, proxies)\u001b[0m\n\u001b[1;32m    484\u001b[0m \u001b[0;34m\u001b[0m\u001b[0m\n\u001b[1;32m    485\u001b[0m         \u001b[0;32mtry\u001b[0m\u001b[0;34m:\u001b[0m\u001b[0;34m\u001b[0m\u001b[0;34m\u001b[0m\u001b[0m\n\u001b[0;32m--> 486\u001b[0;31m             resp = conn.urlopen(\n\u001b[0m\u001b[1;32m    487\u001b[0m                 \u001b[0mmethod\u001b[0m\u001b[0;34m=\u001b[0m\u001b[0mrequest\u001b[0m\u001b[0;34m.\u001b[0m\u001b[0mmethod\u001b[0m\u001b[0;34m,\u001b[0m\u001b[0;34m\u001b[0m\u001b[0;34m\u001b[0m\u001b[0m\n\u001b[1;32m    488\u001b[0m                 \u001b[0murl\u001b[0m\u001b[0;34m=\u001b[0m\u001b[0murl\u001b[0m\u001b[0;34m,\u001b[0m\u001b[0;34m\u001b[0m\u001b[0;34m\u001b[0m\u001b[0m\n",
            "\u001b[0;32m/usr/local/lib/python3.10/dist-packages/urllib3/connectionpool.py\u001b[0m in \u001b[0;36murlopen\u001b[0;34m(self, method, url, body, headers, retries, redirect, assert_same_host, timeout, pool_timeout, release_conn, chunked, body_pos, preload_content, decode_content, **response_kw)\u001b[0m\n\u001b[1;32m    789\u001b[0m \u001b[0;34m\u001b[0m\u001b[0m\n\u001b[1;32m    790\u001b[0m             \u001b[0;31m# Make the request on the HTTPConnection object\u001b[0m\u001b[0;34m\u001b[0m\u001b[0;34m\u001b[0m\u001b[0m\n\u001b[0;32m--> 791\u001b[0;31m             response = self._make_request(\n\u001b[0m\u001b[1;32m    792\u001b[0m                 \u001b[0mconn\u001b[0m\u001b[0;34m,\u001b[0m\u001b[0;34m\u001b[0m\u001b[0;34m\u001b[0m\u001b[0m\n\u001b[1;32m    793\u001b[0m                 \u001b[0mmethod\u001b[0m\u001b[0;34m,\u001b[0m\u001b[0;34m\u001b[0m\u001b[0;34m\u001b[0m\u001b[0m\n",
            "\u001b[0;32m/usr/local/lib/python3.10/dist-packages/urllib3/connectionpool.py\u001b[0m in \u001b[0;36m_make_request\u001b[0;34m(self, conn, method, url, body, headers, retries, timeout, chunked, response_conn, preload_content, decode_content, enforce_content_length)\u001b[0m\n\u001b[1;32m    535\u001b[0m         \u001b[0;31m# Receive the response from the server\u001b[0m\u001b[0;34m\u001b[0m\u001b[0;34m\u001b[0m\u001b[0m\n\u001b[1;32m    536\u001b[0m         \u001b[0;32mtry\u001b[0m\u001b[0;34m:\u001b[0m\u001b[0;34m\u001b[0m\u001b[0;34m\u001b[0m\u001b[0m\n\u001b[0;32m--> 537\u001b[0;31m             \u001b[0mresponse\u001b[0m \u001b[0;34m=\u001b[0m \u001b[0mconn\u001b[0m\u001b[0;34m.\u001b[0m\u001b[0mgetresponse\u001b[0m\u001b[0;34m(\u001b[0m\u001b[0;34m)\u001b[0m\u001b[0;34m\u001b[0m\u001b[0;34m\u001b[0m\u001b[0m\n\u001b[0m\u001b[1;32m    538\u001b[0m         \u001b[0;32mexcept\u001b[0m \u001b[0;34m(\u001b[0m\u001b[0mBaseSSLError\u001b[0m\u001b[0;34m,\u001b[0m \u001b[0mOSError\u001b[0m\u001b[0;34m)\u001b[0m \u001b[0;32mas\u001b[0m \u001b[0me\u001b[0m\u001b[0;34m:\u001b[0m\u001b[0;34m\u001b[0m\u001b[0;34m\u001b[0m\u001b[0m\n\u001b[1;32m    539\u001b[0m             \u001b[0mself\u001b[0m\u001b[0;34m.\u001b[0m\u001b[0m_raise_timeout\u001b[0m\u001b[0;34m(\u001b[0m\u001b[0merr\u001b[0m\u001b[0;34m=\u001b[0m\u001b[0me\u001b[0m\u001b[0;34m,\u001b[0m \u001b[0murl\u001b[0m\u001b[0;34m=\u001b[0m\u001b[0murl\u001b[0m\u001b[0;34m,\u001b[0m \u001b[0mtimeout_value\u001b[0m\u001b[0;34m=\u001b[0m\u001b[0mread_timeout\u001b[0m\u001b[0;34m)\u001b[0m\u001b[0;34m\u001b[0m\u001b[0;34m\u001b[0m\u001b[0m\n",
            "\u001b[0;32m/usr/local/lib/python3.10/dist-packages/urllib3/connection.py\u001b[0m in \u001b[0;36mgetresponse\u001b[0;34m(self)\u001b[0m\n\u001b[1;32m    459\u001b[0m \u001b[0;34m\u001b[0m\u001b[0m\n\u001b[1;32m    460\u001b[0m         \u001b[0;31m# Get the response from http.client.HTTPConnection\u001b[0m\u001b[0;34m\u001b[0m\u001b[0;34m\u001b[0m\u001b[0m\n\u001b[0;32m--> 461\u001b[0;31m         \u001b[0mhttplib_response\u001b[0m \u001b[0;34m=\u001b[0m \u001b[0msuper\u001b[0m\u001b[0;34m(\u001b[0m\u001b[0;34m)\u001b[0m\u001b[0;34m.\u001b[0m\u001b[0mgetresponse\u001b[0m\u001b[0;34m(\u001b[0m\u001b[0;34m)\u001b[0m\u001b[0;34m\u001b[0m\u001b[0;34m\u001b[0m\u001b[0m\n\u001b[0m\u001b[1;32m    462\u001b[0m \u001b[0;34m\u001b[0m\u001b[0m\n\u001b[1;32m    463\u001b[0m         \u001b[0;32mtry\u001b[0m\u001b[0;34m:\u001b[0m\u001b[0;34m\u001b[0m\u001b[0;34m\u001b[0m\u001b[0m\n",
            "\u001b[0;32m/usr/lib/python3.10/http/client.py\u001b[0m in \u001b[0;36mgetresponse\u001b[0;34m(self)\u001b[0m\n\u001b[1;32m   1373\u001b[0m         \u001b[0;32mtry\u001b[0m\u001b[0;34m:\u001b[0m\u001b[0;34m\u001b[0m\u001b[0;34m\u001b[0m\u001b[0m\n\u001b[1;32m   1374\u001b[0m             \u001b[0;32mtry\u001b[0m\u001b[0;34m:\u001b[0m\u001b[0;34m\u001b[0m\u001b[0;34m\u001b[0m\u001b[0m\n\u001b[0;32m-> 1375\u001b[0;31m                 \u001b[0mresponse\u001b[0m\u001b[0;34m.\u001b[0m\u001b[0mbegin\u001b[0m\u001b[0;34m(\u001b[0m\u001b[0;34m)\u001b[0m\u001b[0;34m\u001b[0m\u001b[0;34m\u001b[0m\u001b[0m\n\u001b[0m\u001b[1;32m   1376\u001b[0m             \u001b[0;32mexcept\u001b[0m \u001b[0mConnectionError\u001b[0m\u001b[0;34m:\u001b[0m\u001b[0;34m\u001b[0m\u001b[0;34m\u001b[0m\u001b[0m\n\u001b[1;32m   1377\u001b[0m                 \u001b[0mself\u001b[0m\u001b[0;34m.\u001b[0m\u001b[0mclose\u001b[0m\u001b[0;34m(\u001b[0m\u001b[0;34m)\u001b[0m\u001b[0;34m\u001b[0m\u001b[0;34m\u001b[0m\u001b[0m\n",
            "\u001b[0;32m/usr/lib/python3.10/http/client.py\u001b[0m in \u001b[0;36mbegin\u001b[0;34m(self)\u001b[0m\n\u001b[1;32m    316\u001b[0m         \u001b[0;31m# read until we get a non-100 response\u001b[0m\u001b[0;34m\u001b[0m\u001b[0;34m\u001b[0m\u001b[0m\n\u001b[1;32m    317\u001b[0m         \u001b[0;32mwhile\u001b[0m \u001b[0;32mTrue\u001b[0m\u001b[0;34m:\u001b[0m\u001b[0;34m\u001b[0m\u001b[0;34m\u001b[0m\u001b[0m\n\u001b[0;32m--> 318\u001b[0;31m             \u001b[0mversion\u001b[0m\u001b[0;34m,\u001b[0m \u001b[0mstatus\u001b[0m\u001b[0;34m,\u001b[0m \u001b[0mreason\u001b[0m \u001b[0;34m=\u001b[0m \u001b[0mself\u001b[0m\u001b[0;34m.\u001b[0m\u001b[0m_read_status\u001b[0m\u001b[0;34m(\u001b[0m\u001b[0;34m)\u001b[0m\u001b[0;34m\u001b[0m\u001b[0;34m\u001b[0m\u001b[0m\n\u001b[0m\u001b[1;32m    319\u001b[0m             \u001b[0;32mif\u001b[0m \u001b[0mstatus\u001b[0m \u001b[0;34m!=\u001b[0m \u001b[0mCONTINUE\u001b[0m\u001b[0;34m:\u001b[0m\u001b[0;34m\u001b[0m\u001b[0;34m\u001b[0m\u001b[0m\n\u001b[1;32m    320\u001b[0m                 \u001b[0;32mbreak\u001b[0m\u001b[0;34m\u001b[0m\u001b[0;34m\u001b[0m\u001b[0m\n",
            "\u001b[0;32m/usr/lib/python3.10/http/client.py\u001b[0m in \u001b[0;36m_read_status\u001b[0;34m(self)\u001b[0m\n\u001b[1;32m    277\u001b[0m \u001b[0;34m\u001b[0m\u001b[0m\n\u001b[1;32m    278\u001b[0m     \u001b[0;32mdef\u001b[0m \u001b[0m_read_status\u001b[0m\u001b[0;34m(\u001b[0m\u001b[0mself\u001b[0m\u001b[0;34m)\u001b[0m\u001b[0;34m:\u001b[0m\u001b[0;34m\u001b[0m\u001b[0;34m\u001b[0m\u001b[0m\n\u001b[0;32m--> 279\u001b[0;31m         \u001b[0mline\u001b[0m \u001b[0;34m=\u001b[0m \u001b[0mstr\u001b[0m\u001b[0;34m(\u001b[0m\u001b[0mself\u001b[0m\u001b[0;34m.\u001b[0m\u001b[0mfp\u001b[0m\u001b[0;34m.\u001b[0m\u001b[0mreadline\u001b[0m\u001b[0;34m(\u001b[0m\u001b[0m_MAXLINE\u001b[0m \u001b[0;34m+\u001b[0m \u001b[0;36m1\u001b[0m\u001b[0;34m)\u001b[0m\u001b[0;34m,\u001b[0m \u001b[0;34m\"iso-8859-1\"\u001b[0m\u001b[0;34m)\u001b[0m\u001b[0;34m\u001b[0m\u001b[0;34m\u001b[0m\u001b[0m\n\u001b[0m\u001b[1;32m    280\u001b[0m         \u001b[0;32mif\u001b[0m \u001b[0mlen\u001b[0m\u001b[0;34m(\u001b[0m\u001b[0mline\u001b[0m\u001b[0;34m)\u001b[0m \u001b[0;34m>\u001b[0m \u001b[0m_MAXLINE\u001b[0m\u001b[0;34m:\u001b[0m\u001b[0;34m\u001b[0m\u001b[0;34m\u001b[0m\u001b[0m\n\u001b[1;32m    281\u001b[0m             \u001b[0;32mraise\u001b[0m \u001b[0mLineTooLong\u001b[0m\u001b[0;34m(\u001b[0m\u001b[0;34m\"status line\"\u001b[0m\u001b[0;34m)\u001b[0m\u001b[0;34m\u001b[0m\u001b[0;34m\u001b[0m\u001b[0m\n",
            "\u001b[0;32m/usr/lib/python3.10/socket.py\u001b[0m in \u001b[0;36mreadinto\u001b[0;34m(self, b)\u001b[0m\n\u001b[1;32m    703\u001b[0m         \u001b[0;32mwhile\u001b[0m \u001b[0;32mTrue\u001b[0m\u001b[0;34m:\u001b[0m\u001b[0;34m\u001b[0m\u001b[0;34m\u001b[0m\u001b[0m\n\u001b[1;32m    704\u001b[0m             \u001b[0;32mtry\u001b[0m\u001b[0;34m:\u001b[0m\u001b[0;34m\u001b[0m\u001b[0;34m\u001b[0m\u001b[0m\n\u001b[0;32m--> 705\u001b[0;31m                 \u001b[0;32mreturn\u001b[0m \u001b[0mself\u001b[0m\u001b[0;34m.\u001b[0m\u001b[0m_sock\u001b[0m\u001b[0;34m.\u001b[0m\u001b[0mrecv_into\u001b[0m\u001b[0;34m(\u001b[0m\u001b[0mb\u001b[0m\u001b[0;34m)\u001b[0m\u001b[0;34m\u001b[0m\u001b[0;34m\u001b[0m\u001b[0m\n\u001b[0m\u001b[1;32m    706\u001b[0m             \u001b[0;32mexcept\u001b[0m \u001b[0mtimeout\u001b[0m\u001b[0;34m:\u001b[0m\u001b[0;34m\u001b[0m\u001b[0;34m\u001b[0m\u001b[0m\n\u001b[1;32m    707\u001b[0m                 \u001b[0mself\u001b[0m\u001b[0;34m.\u001b[0m\u001b[0m_timeout_occurred\u001b[0m \u001b[0;34m=\u001b[0m \u001b[0;32mTrue\u001b[0m\u001b[0;34m\u001b[0m\u001b[0;34m\u001b[0m\u001b[0m\n",
            "\u001b[0;32m/usr/lib/python3.10/ssl.py\u001b[0m in \u001b[0;36mrecv_into\u001b[0;34m(self, buffer, nbytes, flags)\u001b[0m\n\u001b[1;32m   1301\u001b[0m                   \u001b[0;34m\"non-zero flags not allowed in calls to recv_into() on %s\"\u001b[0m \u001b[0;34m%\u001b[0m\u001b[0;34m\u001b[0m\u001b[0;34m\u001b[0m\u001b[0m\n\u001b[1;32m   1302\u001b[0m                   self.__class__)\n\u001b[0;32m-> 1303\u001b[0;31m             \u001b[0;32mreturn\u001b[0m \u001b[0mself\u001b[0m\u001b[0;34m.\u001b[0m\u001b[0mread\u001b[0m\u001b[0;34m(\u001b[0m\u001b[0mnbytes\u001b[0m\u001b[0;34m,\u001b[0m \u001b[0mbuffer\u001b[0m\u001b[0;34m)\u001b[0m\u001b[0;34m\u001b[0m\u001b[0;34m\u001b[0m\u001b[0m\n\u001b[0m\u001b[1;32m   1304\u001b[0m         \u001b[0;32melse\u001b[0m\u001b[0;34m:\u001b[0m\u001b[0;34m\u001b[0m\u001b[0;34m\u001b[0m\u001b[0m\n\u001b[1;32m   1305\u001b[0m             \u001b[0;32mreturn\u001b[0m \u001b[0msuper\u001b[0m\u001b[0;34m(\u001b[0m\u001b[0;34m)\u001b[0m\u001b[0;34m.\u001b[0m\u001b[0mrecv_into\u001b[0m\u001b[0;34m(\u001b[0m\u001b[0mbuffer\u001b[0m\u001b[0;34m,\u001b[0m \u001b[0mnbytes\u001b[0m\u001b[0;34m,\u001b[0m \u001b[0mflags\u001b[0m\u001b[0;34m)\u001b[0m\u001b[0;34m\u001b[0m\u001b[0;34m\u001b[0m\u001b[0m\n",
            "\u001b[0;32m/usr/lib/python3.10/ssl.py\u001b[0m in \u001b[0;36mread\u001b[0;34m(self, len, buffer)\u001b[0m\n\u001b[1;32m   1157\u001b[0m         \u001b[0;32mtry\u001b[0m\u001b[0;34m:\u001b[0m\u001b[0;34m\u001b[0m\u001b[0;34m\u001b[0m\u001b[0m\n\u001b[1;32m   1158\u001b[0m             \u001b[0;32mif\u001b[0m \u001b[0mbuffer\u001b[0m \u001b[0;32mis\u001b[0m \u001b[0;32mnot\u001b[0m \u001b[0;32mNone\u001b[0m\u001b[0;34m:\u001b[0m\u001b[0;34m\u001b[0m\u001b[0;34m\u001b[0m\u001b[0m\n\u001b[0;32m-> 1159\u001b[0;31m                 \u001b[0;32mreturn\u001b[0m \u001b[0mself\u001b[0m\u001b[0;34m.\u001b[0m\u001b[0m_sslobj\u001b[0m\u001b[0;34m.\u001b[0m\u001b[0mread\u001b[0m\u001b[0;34m(\u001b[0m\u001b[0mlen\u001b[0m\u001b[0;34m,\u001b[0m \u001b[0mbuffer\u001b[0m\u001b[0;34m)\u001b[0m\u001b[0;34m\u001b[0m\u001b[0;34m\u001b[0m\u001b[0m\n\u001b[0m\u001b[1;32m   1160\u001b[0m             \u001b[0;32melse\u001b[0m\u001b[0;34m:\u001b[0m\u001b[0;34m\u001b[0m\u001b[0;34m\u001b[0m\u001b[0m\n\u001b[1;32m   1161\u001b[0m                 \u001b[0;32mreturn\u001b[0m \u001b[0mself\u001b[0m\u001b[0;34m.\u001b[0m\u001b[0m_sslobj\u001b[0m\u001b[0;34m.\u001b[0m\u001b[0mread\u001b[0m\u001b[0;34m(\u001b[0m\u001b[0mlen\u001b[0m\u001b[0;34m)\u001b[0m\u001b[0;34m\u001b[0m\u001b[0;34m\u001b[0m\u001b[0m\n",
            "\u001b[0;31mKeyboardInterrupt\u001b[0m: "
          ]
        }
      ],
      "source": [
        "# r = requests.get(\"https://www.espncricinfo.com/records/team/averages-batting/sri-lanka-8/one-day-internationals-2?current=2\")\n",
        "r = requests.get(\"https://www.espncricinfo.com/records/team/averages-batting/sri-lanka-8/twenty20-internationals-3?current=2\")\n",
        "soup = BeautifulSoup(r.text, 'html.parser')\n",
        "data = []\n",
        "for a_tag in soup.find_all('a'):\n",
        "  title = a_tag.get('title')\n",
        "  # print(title)\n",
        "  if title is not None and 'None' not in title and 'Live Cricket Score' not in title and 'Cricket Series' not in title and 'Records' not in title and 'Cricket Teams' not in title and 'Cricket Features' not in title and 'Cricket Videos' not in title and 'Cricket Stats' not in title and 'Sri Lanka Recordss' not in title and 'ODI Matches Records' not in title and 'Terms of Use' not in title and 'Privacy Policy' not in title and 'Interest-Based Ads' not in title and 'Feedback' not in title and 'Cricket News' not in title and 'Cricket Fixtures' not in title:\n",
        "    final_url = \"https://www.espncricinfo.com\" + a_tag.get('href')\n",
        "    print(final_url)\n",
        "    r1=requests.get(final_url)\n",
        "    soup1 = BeautifulSoup(r1.text, 'html.parser')\n",
        "    spans2 = soup1.find('p', string='Playing Role').find_next_sibling().get_text()\n",
        "    print(spans2)\n",
        "    spans3 = soup1.find('p', string='Born').find_next_sibling().get_text()\n",
        "    spans4 = soup1.find('p', string='Age').find_next_sibling().get_text()\n",
        "    spans5 = soup1.find('p', string='Bowling Style')\n",
        "    if spans5:\n",
        "      print(\"true-bowling\")\n",
        "    else:\n",
        "      print(\"false-bowling\")\n",
        "    # Bowling_style=spans5.find_next_sibling().get_text()\n",
        "\n",
        "    spans9 = soup1.find('p', string='Batting Style')\n",
        "    if spans9:\n",
        "      print(\"true-batting\")\n",
        "    else:\n",
        "      print(\"false-batting\")\n",
        "    spans6 = soup1.find('p', string='Education').find_next_sibling().get_text()\n",
        "    spans7 = soup1.find('p', string='Full Name').find_next_sibling().get_text()\n",
        "    print(\"--------------------------------------------------------------------------------------\")\n",
        "    # spans8= soup1.find('div',class_='ci-player-bio-content')\n",
        "    # print(spans8)\n",
        "    # if spans8 == None:\n",
        "    #     print(\"None\")\n",
        "    # else:\n",
        "    #   p_tags=spans8.find_all('p')\n",
        "    #   for p in p_tags:\n",
        "    #     print(p.get_text(strip=True))\n",
        "#     role_number=role_dict1.get(spans2,0)\n",
        "#     # print(f\"title:{a_tag.get('title')}, role:{spans2}, Born:{spans3}, Age:{spans4}, \") #href: {final_url}\n",
        "#     data.append({\"title\": title, \"role\": spans2,\"role_number\":role_number,\"href\":final_url,\"born\":spans3,\"age\":spans4,\"bowling_style\":spans5,\"education\":spans6,\"fullname\":spans7})\n",
        "\n",
        "# # # Convert the list into JSON\n",
        "# json_data = json.dumps(data)\n",
        "\n",
        "# print(json_data)\n"
      ]
    },
    {
      "cell_type": "code",
      "execution_count": null,
      "metadata": {
        "id": "8SySJsHX_22x"
      },
      "outputs": [],
      "source": [
        "with open('data.json', 'w') as f:\n",
        "    json.dump(data, f)\n"
      ]
    },
    {
      "cell_type": "code",
      "execution_count": null,
      "metadata": {
        "colab": {
          "background_save": true
        },
        "id": "b6eDIi1pkPfL",
        "outputId": "7a8f203a-478f-40f2-e126-f401e94baf46"
      },
      "outputs": [
        {
          "name": "stdout",
          "output_type": "stream",
          "text": [
            "--------------------------------------------------------------------------------------\n",
            "['In the longest format, Sadeera Samarawickrama is a dashing wicketkeeper-batsman who plays in the middle order. In limited-overs cricket, he has routinely set his teams off to fast starts as an opener. In any case, few school leavers of his vintage have made such a successful transition to the senior level. The national selectors have taken notice. ', \"Having begun his cricket at Colombo's Thurstan College, Samarawickrama moved to St Joseph's in his final years, and prospered in the school system, even hitting a memorable 126 in St Joseph's biggest fixture of the year. That performance propelled him into Sri Lanka's Under-19 squad, where he again impressed, making 265 runs at an average of 44.17 in the 2014 Youth World Cup. \", 'While Kusal Mendis - his team-mate from that U-19 side - was fast-tracked to the national side, Samarawickrama would have to earn his place through first-class performances. His first season with Colts Cricket Club was modest, but his second was good, and his third outstanding. Samarawickrama topped Tier-A run charts with 1016 runs at 59.76 in the 2016-17 season. On his debut for Sri Lanka A in February 2017, he cracked 185 runs off 223 balls against a strong England Lions attack. ', 'On the back of those runs, Samarawickrama earned a maiden Sri Lanka call-up in September of the same year, for the Tests against Pakistan.Andrew Fernando']\n"
          ]
        }
      ],
      "source": [
        "# final_url = \"https://www.espncricinfo.com/cricketers/charith-asalanka-784367\"\n",
        "final_url = \"https://www.espncricinfo.com/cricketers/sadeera-samarawickrama-629076\"\n",
        "# final_url = \"https://www.espncricinfo.com/cricketers/kamindu-mendis-784373\"\n",
        "texts=[]\n",
        "r2=requests.get(final_url)\n",
        "soup1 = BeautifulSoup(r2.text, 'html.parser')\n",
        "# spans2 = soup1.find('p', string='Playing Role').find_next_sibling().get_text()\n",
        "\n",
        "print(\"--------------------------------------------------------------------------------------\")\n",
        "spans8= soup1.find('div',class_='ci-player-bio-content')\n",
        "# print(spans8)\n",
        "if  not spans8:\n",
        "    print(\"None\")\n",
        "else:\n",
        "  p_tags=spans8.find_all('p')\n",
        "  texts = [p.get_text() for p in p_tags]\n",
        "\n",
        "    # print(f\"title:{a_tag.get('title')}, role:{spans2}, Born:{spans3}, Age:{spans4}, \") #href: {final_url}\n",
        "    # data.append({\"title\": title, \"role\": spans2,\"role_number\":role_number,\"href\":final_url,\"born\":spans3,\"age\":spans4,\"bowling_style\":spans5,\"education\":spans6,\"fullname\":spans7})"
      ]
    },
    {
      "cell_type": "code",
      "execution_count": null,
      "metadata": {
        "id": "y5LlSkSzqlqP"
      },
      "outputs": [],
      "source": []
    }
  ],
  "metadata": {
    "colab": {
      "provenance": []
    },
    "kernelspec": {
      "display_name": "Python 3",
      "name": "python3"
    },
    "language_info": {
      "name": "python"
    }
  },
  "nbformat": 4,
  "nbformat_minor": 0
}