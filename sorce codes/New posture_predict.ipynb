{
  "cells": [
    {
      "cell_type": "code",
      "execution_count": null,
      "metadata": {
        "colab": {
          "base_uri": "https://localhost:8080/"
        },
        "id": "AtckJvYVOaoE",
        "outputId": "4ae23fee-1d5f-44ad-d275-1449f808ea80"
      },
      "outputs": [
        {
          "output_type": "stream",
          "name": "stdout",
          "text": [
            "Extraction completed.\n"
          ]
        }
      ],
      "source": [
        "from google.colab import drive\n",
        "import zipfile\n",
        "import os\n",
        "\n",
        "# Path to the zip file in your Google Drive\n",
        "zip_file_path = '/content/drive/MyDrive/Cricket/dataset3/processeddataset.zip'\n",
        "\n",
        "# Directory where you want to extract the contents\n",
        "extracted_dir_path = '/content/drive/MyDrive/Cricket/dataset3'\n",
        "\n",
        "# Create the directory if it doesn't exist\n",
        "os.makedirs(extracted_dir_path, exist_ok=True)\n",
        "\n",
        "# Extract the contents of the zip file\n",
        "with zipfile.ZipFile(zip_file_path, 'r') as zip_ref:\n",
        "    zip_ref.extractall(extracted_dir_path)\n",
        "\n",
        "print(\"Extraction completed.\")"
      ]
    },
    {
      "cell_type": "markdown",
      "metadata": {
        "id": "KUeDSBMrnT5F"
      },
      "source": [
        "get middle frames"
      ]
    },
    {
      "cell_type": "markdown",
      "metadata": {
        "id": "9Zy0JKVLnP6t"
      },
      "source": [
        "normal"
      ]
    },
    {
      "cell_type": "code",
      "execution_count": null,
      "metadata": {
        "colab": {
          "base_uri": "https://localhost:8080/"
        },
        "id": "7SzBk-J8Lfeb",
        "outputId": "9f8d2866-e6f0-4072-f83c-7e91c88c9240"
      },
      "outputs": [
        {
          "output_type": "stream",
          "name": "stdout",
          "text": [
            "correct_defence\n",
            "correct_drive\n",
            "wrong_defence\n",
            "wrong_drive\n",
            "done\n"
          ]
        }
      ],
      "source": [
        "#extract features from all videos\n",
        "import tensorflow as tf\n",
        "import tensorflow_hub as hub\n",
        "import numpy as np\n",
        "import os\n",
        "import cv2\n",
        "# Load MoveNet model from TensorFlow Hub\n",
        "model = hub.load(\"https://tfhub.dev/google/movenet/singlepose/thunder/4\")\n",
        "movenet = model.signatures['serving_default']\n",
        "\n",
        "# Get the list of folders\n",
        "folders = os.listdir('/content/drive/MyDrive/Cricket/dataset3/processeddataset')\n",
        "\n",
        "# Initialize an empty list for the features and labels\n",
        "features = []\n",
        "labels = []\n",
        "\n",
        "# Loop over each folder\n",
        "for i, folder in enumerate(folders):\n",
        "    # Get the list of videos in the folder\n",
        "    videos = os.listdir(os.path.join('/content/drive/MyDrive/Cricket/dataset3/processeddataset', folder))\n",
        "    print(folder)\n",
        "\n",
        "    # Loop over each video\n",
        "    for video in videos:\n",
        "        # Open the video file\n",
        "        cap = cv2.VideoCapture(os.path.join('/content/drive/MyDrive/Cricket/dataset3/processeddataset', folder, video))\n",
        "\n",
        "        # Initialize an empty list for the features of the video\n",
        "        video_features = []\n",
        "        while(cap.isOpened()):\n",
        "            # Read a frame from the video\n",
        "            ret, frame = cap.read()\n",
        "\n",
        "            if ret:\n",
        "                # Preprocess the frame\n",
        "                image = tf.image.resize(frame, [256, 256])\n",
        "                image = tf.cast(image, dtype=tf.int32)\n",
        "\n",
        "                # Add an extra dimension\n",
        "                image = tf.expand_dims(image, axis=0)\n",
        "\n",
        "                # Run inference\n",
        "                outputs = movenet(image)\n",
        "\n",
        "                # Append the outputs to the video features\n",
        "                video_features.append(outputs['output_0'].numpy())\n",
        "\n",
        "            else:\n",
        "                break\n",
        "\n",
        "        # Release the video file\n",
        "        cap.release()\n",
        "\n",
        "        # Append the mean of the video features to the features\n",
        "#             features.append(np.mean(video_features, axis=0).flatten())\n",
        "        features.append(np.mean(video_features, axis=0))\n",
        "\n",
        "\n",
        "        # Append the label to the labels\n",
        "        labels.append(i)\n",
        "print('done')"
      ]
    },
    {
      "cell_type": "code",
      "execution_count": null,
      "metadata": {
        "colab": {
          "base_uri": "https://localhost:8080/"
        },
        "id": "ImUmCTMnRklW",
        "outputId": "cfa44112-0e24-43a9-f261-88f1cc8fbb4b"
      },
      "outputs": [
        {
          "output_type": "stream",
          "name": "stdout",
          "text": [
            "(401, 1, 1, 17, 3)\n",
            "(401,)\n"
          ]
        }
      ],
      "source": [
        "features_array = np.array(features)\n",
        "labels_array = np.array(labels)\n",
        "print(features_array.shape)\n",
        "print(labels_array.shape)"
      ]
    },
    {
      "cell_type": "code",
      "execution_count": null,
      "metadata": {
        "colab": {
          "base_uri": "https://localhost:8080/"
        },
        "id": "T2A8r1RfNb-D",
        "outputId": "42d991b7-a53b-46ee-ab01-45b56cbbeb65"
      },
      "outputs": [
        {
          "output_type": "execute_result",
          "data": {
            "text/plain": [
              "array([0, 0, 0, 0, 0, 0, 0, 0, 0, 0, 0, 0, 0, 0, 0, 0, 0, 0, 0, 0, 0, 0,\n",
              "       0, 0, 0, 0, 0, 0, 0, 0, 0, 0, 0, 0, 0, 0, 0, 0, 0, 0, 0, 0, 0, 0,\n",
              "       0, 0, 0, 0, 0, 0, 0, 0, 0, 0, 0, 0, 0, 0, 0, 0, 0, 0, 0, 0, 0, 0,\n",
              "       0, 0, 0, 0, 0, 0, 0, 0, 0, 0, 0, 0, 0, 0, 0, 0, 0, 0, 0, 0, 0, 0,\n",
              "       0, 0, 0, 0, 0, 0, 0, 0, 0, 0, 0, 0, 0, 0, 0, 0, 0, 0, 0, 0, 0, 0,\n",
              "       0, 0, 0, 0, 0, 0, 0, 0, 0, 0, 0, 0, 0, 0, 0, 0, 0, 0, 0, 0, 0, 0,\n",
              "       0, 1, 1, 1, 1, 1, 1, 1, 1, 1, 1, 1, 1, 1, 1, 1, 1, 1, 1, 1, 1, 1,\n",
              "       1, 1, 1, 1, 1, 1, 1, 1, 1, 1, 1, 1, 1, 1, 1, 1, 1, 1, 1, 1, 1, 1,\n",
              "       1, 1, 1, 1, 1, 1, 1, 1, 1, 1, 1, 1, 1, 1, 1, 1, 1, 1, 1, 1, 1, 1,\n",
              "       1, 1, 1, 1, 1, 1, 1, 1, 1, 1, 1, 1, 1, 1, 1, 1, 1, 1, 1, 1, 1, 1,\n",
              "       1, 1, 1, 1, 1, 1, 2, 2, 2, 2, 2, 2, 2, 2, 2, 2, 2, 2, 2, 2, 2, 2,\n",
              "       2, 2, 2, 2, 2, 2, 2, 2, 2, 2, 2, 2, 2, 2, 2, 2, 2, 2, 2, 2, 2, 2,\n",
              "       2, 2, 2, 2, 2, 2, 2, 2, 2, 2, 2, 2, 2, 2, 2, 2, 2, 2, 2, 2, 2, 2,\n",
              "       2, 2, 2, 2, 2, 2, 2, 2, 2, 2, 2, 2, 2, 2, 2, 2, 2, 2, 2, 2, 2, 2,\n",
              "       2, 2, 2, 2, 2, 2, 2, 2, 2, 2, 2, 2, 2, 2, 2, 2, 2, 2, 2, 2, 2, 2,\n",
              "       2, 2, 2, 2, 2, 2, 2, 2, 2, 2, 3, 3, 3, 3, 3, 3, 3, 3, 3, 3, 3, 3,\n",
              "       3, 3, 3, 3, 3, 3, 3, 3, 3, 3, 3, 3, 3, 3, 3, 3, 3, 3, 3, 3, 3, 3,\n",
              "       3, 3, 3, 3, 3, 3, 3, 3, 3, 3, 3, 3, 3, 3, 3, 3, 3, 3, 3, 3, 3, 3,\n",
              "       3, 3, 3, 3, 3])"
            ]
          },
          "metadata": {},
          "execution_count": 4
        }
      ],
      "source": [
        "labels_array"
      ]
    },
    {
      "cell_type": "code",
      "execution_count": null,
      "metadata": {
        "id": "uEfzvu65RlD4"
      },
      "outputs": [],
      "source": [
        "from keras.utils import to_categorical\n",
        "\n",
        "# Convert labels to one-hot encoding\n",
        "labels = to_categorical(labels, num_classes=4)"
      ]
    },
    {
      "cell_type": "code",
      "execution_count": null,
      "metadata": {
        "colab": {
          "base_uri": "https://localhost:8080/"
        },
        "id": "Biy4JnpnNuNX",
        "outputId": "91740a71-7e2e-4282-ba1f-ef56300d82e6"
      },
      "outputs": [
        {
          "output_type": "stream",
          "name": "stdout",
          "text": [
            "Features Train Shape: (320, 1, 1, 17, 3)\n",
            "Labels Train Shape: (320, 4)\n",
            "Features Test Shape: (81, 1, 1, 17, 3)\n",
            "Labels Test Shape: (81, 4)\n"
          ]
        }
      ],
      "source": [
        "from sklearn.model_selection import train_test_split\n",
        "\n",
        "# Split the data into training and testing sets\n",
        "features_train, features_test, labels_train, labels_test = train_test_split(features_array, labels, test_size=0.2, random_state=42)\n",
        "\n",
        "#features_train = features_array\n",
        "#labels_train = labels\n",
        "# Check the shapes of the training and testing sets\n",
        "print(\"Features Train Shape:\", features_train.shape)\n",
        "print(\"Labels Train Shape:\", labels_train.shape)\n",
        "print(\"Features Test Shape:\", features_test.shape)\n",
        "print(\"Labels Test Shape:\", labels_test.shape)"
      ]
    },
    {
      "cell_type": "code",
      "execution_count": null,
      "metadata": {
        "colab": {
          "base_uri": "https://localhost:8080/"
        },
        "id": "qjN-Tg8PLIpm",
        "outputId": "d38e68f5-5c3d-4980-a751-68c2ef2b91af"
      },
      "outputs": [
        {
          "output_type": "stream",
          "name": "stdout",
          "text": [
            "Epoch 1/100\n",
            "80/80 [==============================] - 2s 7ms/step - loss: 1.9477 - accuracy: 0.3812 - val_loss: 1.7509 - val_accuracy: 0.3333 - lr: 0.0010\n",
            "Epoch 2/100\n",
            "80/80 [==============================] - 0s 4ms/step - loss: 1.4621 - accuracy: 0.4594 - val_loss: 1.5672 - val_accuracy: 0.5185 - lr: 0.0010\n",
            "Epoch 3/100\n",
            "80/80 [==============================] - 0s 4ms/step - loss: 1.1964 - accuracy: 0.5906 - val_loss: 1.4373 - val_accuracy: 0.5185 - lr: 0.0010\n",
            "Epoch 4/100\n",
            "80/80 [==============================] - 0s 4ms/step - loss: 1.0710 - accuracy: 0.6844 - val_loss: 1.3219 - val_accuracy: 0.6049 - lr: 0.0010\n",
            "Epoch 5/100\n",
            "80/80 [==============================] - 0s 4ms/step - loss: 0.9077 - accuracy: 0.7125 - val_loss: 1.1793 - val_accuracy: 0.7531 - lr: 0.0010\n",
            "Epoch 6/100\n",
            "80/80 [==============================] - 0s 4ms/step - loss: 0.7946 - accuracy: 0.7750 - val_loss: 0.8961 - val_accuracy: 0.8272 - lr: 0.0010\n",
            "Epoch 7/100\n",
            "80/80 [==============================] - 0s 3ms/step - loss: 0.6901 - accuracy: 0.8000 - val_loss: 0.6905 - val_accuracy: 0.8519 - lr: 0.0010\n",
            "Epoch 8/100\n",
            "80/80 [==============================] - 0s 4ms/step - loss: 0.7056 - accuracy: 0.7875 - val_loss: 0.6670 - val_accuracy: 0.8519 - lr: 0.0010\n",
            "Epoch 9/100\n",
            "80/80 [==============================] - 0s 4ms/step - loss: 0.6466 - accuracy: 0.8125 - val_loss: 0.9070 - val_accuracy: 0.6790 - lr: 0.0010\n",
            "Epoch 10/100\n",
            "80/80 [==============================] - 0s 4ms/step - loss: 0.6196 - accuracy: 0.8281 - val_loss: 0.4869 - val_accuracy: 0.9259 - lr: 0.0010\n",
            "Epoch 11/100\n",
            "80/80 [==============================] - 0s 4ms/step - loss: 0.5098 - accuracy: 0.8750 - val_loss: 0.5307 - val_accuracy: 0.9259 - lr: 0.0010\n",
            "Epoch 12/100\n",
            "80/80 [==============================] - 0s 4ms/step - loss: 0.5192 - accuracy: 0.8562 - val_loss: 0.4718 - val_accuracy: 0.9259 - lr: 0.0010\n",
            "Epoch 13/100\n",
            "80/80 [==============================] - 0s 4ms/step - loss: 0.5699 - accuracy: 0.8531 - val_loss: 0.4508 - val_accuracy: 0.9259 - lr: 0.0010\n",
            "Epoch 14/100\n",
            "80/80 [==============================] - 0s 4ms/step - loss: 0.4631 - accuracy: 0.9125 - val_loss: 0.4460 - val_accuracy: 0.9012 - lr: 0.0010\n",
            "Epoch 15/100\n",
            "80/80 [==============================] - 0s 4ms/step - loss: 0.4786 - accuracy: 0.8625 - val_loss: 0.7357 - val_accuracy: 0.7901 - lr: 0.0010\n",
            "Epoch 16/100\n",
            "80/80 [==============================] - 0s 4ms/step - loss: 0.4292 - accuracy: 0.9000 - val_loss: 0.4390 - val_accuracy: 0.8889 - lr: 0.0010\n",
            "Epoch 17/100\n",
            "80/80 [==============================] - 0s 4ms/step - loss: 0.4140 - accuracy: 0.9062 - val_loss: 0.5000 - val_accuracy: 0.8395 - lr: 0.0010\n",
            "Epoch 18/100\n",
            "80/80 [==============================] - 0s 4ms/step - loss: 0.4692 - accuracy: 0.8719 - val_loss: 0.5864 - val_accuracy: 0.8765 - lr: 0.0010\n",
            "Epoch 19/100\n",
            "80/80 [==============================] - 0s 6ms/step - loss: 0.4763 - accuracy: 0.8687 - val_loss: 0.7579 - val_accuracy: 0.7778 - lr: 0.0010\n"
          ]
        }
      ],
      "source": [
        "from keras.models import Sequential\n",
        "from keras.layers import Dense, Flatten, Conv2D, Dropout, BatchNormalization\n",
        "from keras import regularizers\n",
        "from keras.callbacks import EarlyStopping\n",
        "from keras.callbacks import ReduceLROnPlateau\n",
        "\n",
        "early_stop = EarlyStopping(monitor='val_loss', patience=3)\n",
        "\n",
        "# Define the learning rate scheduler\n",
        "reduce_lr = ReduceLROnPlateau(monitor='val_loss', factor=0.2, patience=3, min_lr=0.0001)\n",
        "\n",
        "# Add it to your callbacks\n",
        "callbacks = [early_stop, reduce_lr]\n",
        "\n",
        "# Create a CNN model\n",
        "model = Sequential()\n",
        "model.add(Conv2D(32, (3, 3), activation='relu', padding='same', input_shape=(1, 1, 17, 3)))\n",
        "model.add(BatchNormalization())\n",
        "model.add(Conv2D(32, (3, 3), activation='relu', padding='same'))\n",
        "model.add(Dropout(0.1))\n",
        "# model.add(Conv2D(64, (3, 3), activation='relu', padding='same'))\n",
        "# model.add(BatchNormalization())\n",
        "# model.add(Dropout(0.2))\n",
        "\n",
        "model.add(Flatten())\n",
        "model.add(Dense(64, activation='relu',kernel_regularizer=regularizers.l2(0.01)))\n",
        "model.add(Dense(32, activation='relu'))\n",
        "#model.add(Dense(32, activation='relu'))\n",
        "# model.add(BatchNormalization())\n",
        "model.add(Dropout(0.3))\n",
        "model.add(Dense(4, activation='softmax'))\n",
        "\n",
        "\n",
        "# Compile the model\n",
        "model.compile(loss='categorical_crossentropy', optimizer='adam', metrics=['accuracy'])\n",
        "\n",
        "# Train the model\n",
        "history = model.fit(features_train, labels_train, epochs=100, batch_size=4,validation_data=(features_test, labels_test), callbacks=callbacks)"
      ]
    },
    {
      "cell_type": "code",
      "execution_count": null,
      "metadata": {
        "colab": {
          "base_uri": "https://localhost:8080/",
          "height": 318
        },
        "id": "9qjMlbFfOHz9",
        "outputId": "be653c86-8407-49e3-a34b-a6d6927dc674"
      },
      "outputs": [
        {
          "output_type": "display_data",
          "data": {
            "text/plain": [
              "<Figure size 1200x400 with 2 Axes>"
            ],
            "image/png": "[encoded data removed]"
          },
          "metadata": {}
        }
      ],
      "source": [
        "import matplotlib.pyplot as plt\n",
        "\n",
        "# Plot training & validation accuracy values\n",
        "plt.figure(figsize=(12, 4))\n",
        "plt.subplot(1, 2, 1)\n",
        "plt.plot(history.history['accuracy'])\n",
        "plt.plot(history.history['val_accuracy'])\n",
        "plt.title('Model accuracy')\n",
        "plt.ylabel('Accuracy')\n",
        "plt.xlabel('Epoch')\n",
        "plt.legend(['Train', 'Test'], loc='upper left')\n",
        "\n",
        "# Plot training & validation loss values\n",
        "plt.subplot(1, 2, 2)\n",
        "plt.plot(history.history['loss'])\n",
        "plt.plot(history.history['val_loss'])\n",
        "plt.title('Model loss')\n",
        "plt.ylabel('Loss')\n",
        "plt.xlabel('Epoch')\n",
        "plt.legend(['Train', 'Test'], loc='upper left')\n",
        "\n",
        "plt.tight_layout()\n",
        "plt.show()"
      ]
    },
    {
      "cell_type": "code",
      "execution_count": null,
      "metadata": {
        "colab": {
          "base_uri": "https://localhost:8080/"
        },
        "id": "wVzO2H0yvvHR",
        "outputId": "96bfd375-0cc9-43b8-b68c-a5edcb9c4410"
      },
      "outputs": [
        {
          "output_type": "stream",
          "name": "stderr",
          "text": [
            "/usr/local/lib/python3.10/dist-packages/keras/src/engine/training.py:3103: UserWarning: You are saving your model as an HDF5 file via `model.save()`. This file format is considered legacy. We recommend using instead the native Keras format, e.g. `model.save('my_model.keras')`.\n",
            "  saving_api.save_model(\n"
          ]
        }
      ],
      "source": [
        "model_save_path = '/content/drive/MyDrive/Cricket/modelV3.h5'\n",
        "\n",
        "# Save the model\n",
        "model.save(model_save_path)"
      ]
    },
    {
      "cell_type": "code",
      "source": [
        "from sklearn.metrics import classification_report\n",
        "import numpy as np\n",
        "\n",
        "labels_test_argmax = np.argmax(labels_test, axis=1)\n",
        "\n",
        "# After the model has been trained, get predictions from the model\n",
        "predictions = model.predict(features_test)\n",
        "predictions_argmax = np.argmax(predictions, axis=1)\n",
        "\n",
        "print(classification_report(labels_test_argmax, predictions_argmax))"
      ],
      "metadata": {
        "colab": {
          "base_uri": "https://localhost:8080/"
        },
        "id": "W5yiEMSS_-Yp",
        "outputId": "48ce7448-8763-4406-8db4-d0e58b9b7d13"
      },
      "execution_count": null,
      "outputs": [
        {
          "output_type": "stream",
          "name": "stderr",
          "text": [
            "WARNING:tensorflow:5 out of the last 14 calls to <function Model.make_predict_function.<locals>.predict_function at 0x7f1f1f8704c0> triggered tf.function retracing. Tracing is expensive and the excessive number of tracings could be due to (1) creating @tf.function repeatedly in a loop, (2) passing tensors with different shapes, (3) passing Python objects instead of tensors. For (1), please define your @tf.function outside of the loop. For (2), @tf.function has reduce_retracing=True option that can avoid unnecessary retracing. For (3), please refer to https://www.tensorflow.org/guide/function#controlling_retracing and https://www.tensorflow.org/api_docs/python/tf/function for  more details.\n"
          ]
        },
        {
          "output_type": "stream",
          "name": "stdout",
          "text": [
            "3/3 [==============================] - 0s 5ms/step\n",
            "              precision    recall  f1-score   support\n",
            "\n",
            "           0       1.00      0.60      0.75        35\n",
            "           1       0.70      1.00      0.82        14\n",
            "           2       0.61      1.00      0.76        19\n",
            "           3       1.00      0.69      0.82        13\n",
            "\n",
            "    accuracy                           0.78        81\n",
            "   macro avg       0.83      0.82      0.79        81\n",
            "weighted avg       0.86      0.78      0.78        81\n",
            "\n"
          ]
        }
      ]
    },
    {
      "cell_type": "markdown",
      "metadata": {
        "id": "vsldG1BPC2AF"
      },
      "source": [
        "new predict"
      ]
    }
  ],
  "metadata": {
    "colab": {
      "provenance": []
    },
    "kernelspec": {
      "display_name": "Python 3",
      "name": "python3"
    },
    "language_info": {
      "name": "python"
    }
  },
  "nbformat": 4,
  "nbformat_minor": 0
}